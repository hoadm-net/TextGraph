{
 "cells": [
  {
   "cell_type": "code",
   "id": "initial_id",
   "metadata": {
    "collapsed": true,
    "ExecuteTime": {
     "end_time": "2025-03-23T18:45:35.385095Z",
     "start_time": "2025-03-23T18:45:35.284382Z"
    }
   },
   "source": [
    "import tensorflow as tf\n",
    "from tensorflow.keras.layers import Embedding, Dense, Dropout, LSTM\n",
    "import numpy as np\n",
    "from EDA.DataReader import DataReader\n",
    "from keras.src.legacy.preprocessing.text import Tokenizer\n",
    "from keras.src.utils import pad_sequences\n",
    "from sklearn.metrics import accuracy_score, f1_score\n",
    "import pandas as pd"
   ],
   "outputs": [],
   "execution_count": 7
  },
  {
   "metadata": {
    "jupyter": {
     "is_executing": true
    },
    "ExecuteTime": {
     "start_time": "2025-03-23T18:45:35.394372Z"
    }
   },
   "cell_type": "code",
   "source": [
    "# dataReader = DataReader(\"UIT_VFSC\") # UIT\n",
    "dataReader = DataReader(\"\") # tập foody_raw\n",
    "df_train =dataReader.df_train\n",
    "df_test = dataReader.df_test\n",
    "# Tiền xử lý văn bản\n",
    "tokenizer = Tokenizer()\n",
    "tokenizer.fit_on_texts(df_train[\"corpus\"])\n",
    "max_words = len(tokenizer.word_index) + 1 \n",
    "sequences = tokenizer.texts_to_sequences(df_train[\"corpus\"])\n",
    "X_train = pad_sequences(sequences)\n",
    "y_train = np.array(df_train[\"label\"])\n",
    "X_Test = pad_sequences(tokenizer.texts_to_sequences(df_test[\"corpus\"]))\n",
    "y_test = np.array(df_test[\"label\"])\n",
    "# Xây dựng mô hình LSTM\n",
    "model = tf.keras.models.Sequential([\n",
    "    Embedding(input_dim=max_words, output_dim=128),\n",
    "    LSTM(128, dropout=0.2),\n",
    "    Dense(64, activation='relu'),\n",
    "    Dropout(0.5),\n",
    "    # Dense(3, activation='softmax')  # Multiclass UIT\n",
    "    Dense(2, activation='softmax') # 2 classes foody\n",
    "])\n",
    "\n",
    "# Biên dịch mô hình\n",
    "model.compile(optimizer='adam', loss='sparse_categorical_crossentropy', metrics=['accuracy'])\n",
    "\n",
    "# Huấn luyện mô hình\n",
    "model.fit(X_train, y_train, epochs=10)\n",
    "y_pred = model.predict(X_Test)\n",
    "y_pred_classes = np.argmax(y_pred, axis=1)\n",
    "acc = accuracy_score(y_test, y_pred_classes)\n",
    "\n",
    "print(f\"Accuracy: {acc:.4f}\")\n",
    "\n",
    "# use for multiclass (UIT)\n",
    "# mf1 = f1_score(df_test[\"label\"], y_pred_classes, average='macro')\n",
    "# wf1 = f1_score(df_test[\"label\"], y_pred_classes, average='weighted')\n",
    "\n",
    "# print(f\"F1-Score: {max(mf1, wf1):.4f}\")\n",
    "\n",
    "# use for 2 class (foody)\n",
    "f1 = f1_score(y_test, y_pred_classes)\n",
    "print(f\"F1 Score: {f1:.4f}\")"
   ],
   "id": "c5686cbaa383eace",
   "outputs": [],
   "execution_count": null
  }
 ],
 "metadata": {
  "kernelspec": {
   "display_name": "Python 3",
   "language": "python",
   "name": "python3"
  },
  "language_info": {
   "codemirror_mode": {
    "name": "ipython",
    "version": 2
   },
   "file_extension": ".py",
   "mimetype": "text/x-python",
   "name": "python",
   "nbconvert_exporter": "python",
   "pygments_lexer": "ipython2",
   "version": "2.7.6"
  }
 },
 "nbformat": 4,
 "nbformat_minor": 5
}
