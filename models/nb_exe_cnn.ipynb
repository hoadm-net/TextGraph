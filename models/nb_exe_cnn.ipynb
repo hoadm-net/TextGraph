{
 "cells": [
  {
   "cell_type": "code",
   "id": "initial_id",
   "metadata": {
    "collapsed": true,
    "ExecuteTime": {
     "end_time": "2025-03-25T17:10:56.396040Z",
     "start_time": "2025-03-25T17:10:30.000741Z"
    }
   },
   "source": [
    "import tensorflow as tf\n",
    "from tensorflow.keras.layers import Embedding, Conv1D, GlobalMaxPooling1D, Dense, Dropout\n",
    "import numpy as np\n",
    "from EDA.DataReader import DataReader\n",
    "from keras.src.legacy.preprocessing.text import Tokenizer\n",
    "from keras.src.utils import pad_sequences\n",
    "from sklearn.metrics import accuracy_score\n",
    "import torch \n",
    "from torcheval.metrics.functional import multiclass_f1_score"
   ],
   "outputs": [],
   "execution_count": 1
  },
  {
   "metadata": {
    "ExecuteTime": {
     "end_time": "2025-03-25T17:11:00.832997Z",
     "start_time": "2025-03-25T17:10:56.401206Z"
    }
   },
   "cell_type": "code",
   "source": [
    "# pre processing\n",
    "# dataReader = DataReader(\"UIT_VFSC\") # UIT\n",
    "dataReader = DataReader(\"\") # dataset foody_raw\n",
    "df_train = dataReader.df_train\n",
    "df_test = dataReader.df_test\n",
    "df_total =dataReader.df_total\n",
    "n_labels = int(df_total[\"label\"].max().item() + 1)"
   ],
   "id": "7d37fdf361f6b096",
   "outputs": [],
   "execution_count": 2
  },
  {
   "metadata": {
    "ExecuteTime": {
     "end_time": "2025-03-25T17:52:21.473549Z",
     "start_time": "2025-03-25T17:11:00.832997Z"
    }
   },
   "cell_type": "code",
   "source": [
    "# Tiền xử lý văn bản\n",
    "tokenizer = Tokenizer()\n",
    "tokenizer.fit_on_texts(df_train[\"corpus\"])\n",
    "max_words = len(tokenizer.word_index) + 1 \n",
    "sequences = tokenizer.texts_to_sequences(df_train[\"corpus\"])\n",
    "X_train = pad_sequences(sequences)\n",
    "y_train = np.array(df_train[\"label\"])\n",
    "X_Test = pad_sequences(tokenizer.texts_to_sequences(df_test[\"corpus\"]))\n",
    "y_test = np.array(df_test[\"label\"])\n",
    "# Xây dựng mô hình CNN\n",
    "model = tf.keras.models.Sequential([\n",
    "    Embedding(input_dim=max_words, output_dim=128),\n",
    "    Conv1D(filters=128, kernel_size=5, activation='relu'),\n",
    "    GlobalMaxPooling1D(),\n",
    "    Dense(64, activation='relu'),\n",
    "    Dropout(0.5),\n",
    "    Dense(n_labels, activation='softmax')\n",
    "])\n",
    "\n",
    "# Biên dịch mô hình\n",
    "model.compile(optimizer='adam', loss='sparse_categorical_crossentropy', metrics=['accuracy'])\n",
    "\n",
    "# Huấn luyện mô hình\n",
    "model.fit(X_train, y_train, epochs=10)\n",
    "y_pred = model.predict(X_Test)\n",
    "y_pred_classes = np.argmax(y_pred, axis=1)\n",
    "\n",
    "acc = accuracy_score(y_test, y_pred_classes)\n",
    "\n",
    "print(f\"Accuracy: {acc:.4f}\")\n",
    "\n",
    "y_pred_classes = torch.tensor(y_pred_classes).type(torch.long)\n",
    "label = torch.tensor(df_test[\"label\"].tolist()).type(torch.long)\n",
    "mf1 = multiclass_f1_score(y_pred_classes, label, num_classes=n_labels, average='macro')\n",
    "wf1 = multiclass_f1_score(y_pred_classes, label, num_classes=n_labels, average='weighted')\n",
    "print(f\"F1-Score: {max(mf1, wf1):.4f}\")"
   ],
   "id": "c394e52067650d6",
   "outputs": [
    {
     "name": "stdout",
     "output_type": "stream",
     "text": [
      "Epoch 1/10\n",
      "\u001B[1m957/957\u001B[0m \u001B[32m━━━━━━━━━━━━━━━━━━━━\u001B[0m\u001B[37m\u001B[0m \u001B[1m212s\u001B[0m 219ms/step - accuracy: 0.7947 - loss: 0.4314\n",
      "Epoch 2/10\n",
      "\u001B[1m957/957\u001B[0m \u001B[32m━━━━━━━━━━━━━━━━━━━━\u001B[0m\u001B[37m\u001B[0m \u001B[1m217s\u001B[0m 226ms/step - accuracy: 0.9255 - loss: 0.2048\n",
      "Epoch 3/10\n",
      "\u001B[1m957/957\u001B[0m \u001B[32m━━━━━━━━━━━━━━━━━━━━\u001B[0m\u001B[37m\u001B[0m \u001B[1m229s\u001B[0m 239ms/step - accuracy: 0.9613 - loss: 0.1147\n",
      "Epoch 4/10\n",
      "\u001B[1m957/957\u001B[0m \u001B[32m━━━━━━━━━━━━━━━━━━━━\u001B[0m\u001B[37m\u001B[0m \u001B[1m270s\u001B[0m 282ms/step - accuracy: 0.9817 - loss: 0.0536\n",
      "Epoch 5/10\n",
      "\u001B[1m957/957\u001B[0m \u001B[32m━━━━━━━━━━━━━━━━━━━━\u001B[0m\u001B[37m\u001B[0m \u001B[1m261s\u001B[0m 272ms/step - accuracy: 0.9907 - loss: 0.0294\n",
      "Epoch 6/10\n",
      "\u001B[1m957/957\u001B[0m \u001B[32m━━━━━━━━━━━━━━━━━━━━\u001B[0m\u001B[37m\u001B[0m \u001B[1m256s\u001B[0m 268ms/step - accuracy: 0.9910 - loss: 0.0258\n",
      "Epoch 7/10\n",
      "\u001B[1m957/957\u001B[0m \u001B[32m━━━━━━━━━━━━━━━━━━━━\u001B[0m\u001B[37m\u001B[0m \u001B[1m259s\u001B[0m 271ms/step - accuracy: 0.9933 - loss: 0.0189\n",
      "Epoch 8/10\n",
      "\u001B[1m957/957\u001B[0m \u001B[32m━━━━━━━━━━━━━━━━━━━━\u001B[0m\u001B[37m\u001B[0m \u001B[1m227s\u001B[0m 238ms/step - accuracy: 0.9946 - loss: 0.0148\n",
      "Epoch 9/10\n",
      "\u001B[1m957/957\u001B[0m \u001B[32m━━━━━━━━━━━━━━━━━━━━\u001B[0m\u001B[37m\u001B[0m \u001B[1m242s\u001B[0m 253ms/step - accuracy: 0.9958 - loss: 0.0123\n",
      "Epoch 10/10\n",
      "\u001B[1m957/957\u001B[0m \u001B[32m━━━━━━━━━━━━━━━━━━━━\u001B[0m\u001B[37m\u001B[0m \u001B[1m272s\u001B[0m 283ms/step - accuracy: 0.9948 - loss: 0.0152\n",
      "\u001B[1m240/240\u001B[0m \u001B[32m━━━━━━━━━━━━━━━━━━━━\u001B[0m\u001B[37m\u001B[0m \u001B[1m20s\u001B[0m 80ms/step\n",
      "Accuracy: 0.8704\n",
      "F1-Score: 0.8702\n"
     ]
    }
   ],
   "execution_count": 3
  }
 ],
 "metadata": {
  "kernelspec": {
   "display_name": "Python 3",
   "language": "python",
   "name": "python3"
  },
  "language_info": {
   "codemirror_mode": {
    "name": "ipython",
    "version": 2
   },
   "file_extension": ".py",
   "mimetype": "text/x-python",
   "name": "python",
   "nbconvert_exporter": "python",
   "pygments_lexer": "ipython2",
   "version": "2.7.6"
  }
 },
 "nbformat": 4,
 "nbformat_minor": 5
}
