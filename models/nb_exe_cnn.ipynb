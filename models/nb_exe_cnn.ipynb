{
 "cells": [
  {
   "cell_type": "code",
   "id": "initial_id",
   "metadata": {
    "collapsed": true,
    "ExecuteTime": {
     "end_time": "2025-03-23T16:32:41.032371Z",
     "start_time": "2025-03-23T16:32:41.018619Z"
    }
   },
   "source": [
    "import tensorflow as tf\n",
    "from tensorflow.keras.layers import Embedding, Conv1D, GlobalMaxPooling1D, Dense, Dropout\n",
    "import numpy as np\n",
    "from EDA.DataReader import DataReader\n"
   ],
   "outputs": [],
   "execution_count": 7
  },
  {
   "metadata": {
    "ExecuteTime": {
     "end_time": "2025-03-23T17:10:25.966879Z",
     "start_time": "2025-03-23T16:32:41.038507Z"
    }
   },
   "cell_type": "code",
   "source": [
    "from keras.src.legacy.preprocessing.text import Tokenizer\n",
    "from keras.src.utils import pad_sequences\n",
    "from sklearn.metrics import accuracy_score, f1_score\n",
    "\n",
    "# pre processing\n",
    "# dataReader = DataReader(\"UIT_VFSC\") # UIT\n",
    "dataReader = DataReader(\"\") # dataset foody_raw\n",
    "df_train = dataReader.df_train\n",
    "df_test = dataReader.df_test\n",
    "# Tiền xử lý văn bản\n",
    "tokenizer = Tokenizer()\n",
    "tokenizer.fit_on_texts(df_train[\"corpus\"])\n",
    "max_words = len(tokenizer.word_index) + 1 \n",
    "sequences = tokenizer.texts_to_sequences(df_train[\"corpus\"])\n",
    "X_train = pad_sequences(sequences)\n",
    "y_train = np.array(df_train[\"label\"])\n",
    "X_Test = pad_sequences(tokenizer.texts_to_sequences(df_test[\"corpus\"]))\n",
    "y_test = np.array(df_test[\"label\"])\n",
    "# Xây dựng mô hình CNN\n",
    "model = tf.keras.models.Sequential([\n",
    "    Embedding(input_dim=max_words, output_dim=128),\n",
    "    Conv1D(filters=128, kernel_size=5, activation='relu'),\n",
    "    GlobalMaxPooling1D(),\n",
    "    Dense(64, activation='relu'),\n",
    "    Dropout(0.5),\n",
    "    # Dense(3, activation='softmax')  # Multiclass UIT\n",
    "    Dense(2, activation='softmax') # 2 classes foody\n",
    "])\n",
    "\n",
    "# Biên dịch mô hình\n",
    "model.compile(optimizer='adam', loss='sparse_categorical_crossentropy', metrics=['accuracy'])\n",
    "\n",
    "# Huấn luyện mô hình\n",
    "model.fit(X_train, y_train, epochs=10)\n",
    "y_pred = model.predict(X_Test)\n",
    "y_pred_classes = np.argmax(y_pred, axis=1)\n",
    "\n",
    "acc = accuracy_score(y_test, y_pred_classes)\n",
    "\n",
    "print(f\"Accuracy: {acc:.4f}\")\n",
    "\n",
    "# use for multiclass (UIT)\n",
    "# mf1 = f1_score(df_test[\"label\"], y_pred_classes, average='macro')\n",
    "# wf1 = f1_score(df_test[\"label\"], y_pred_classes, average='weighted')\n",
    "\n",
    "# print(f\"F1-Score: {max(mf1, wf1):.4f}\")\n",
    "\n",
    "# use for 2 class (foody)\n",
    "f1 = f1_score(y_test, y_pred_classes)\n",
    "print(f\"F1 Score: {f1:.4f}\")"
   ],
   "id": "c394e52067650d6",
   "outputs": [
    {
     "name": "stdout",
     "output_type": "stream",
     "text": [
      "Epoch 1/10\n",
      "\u001B[1m957/957\u001B[0m \u001B[32m━━━━━━━━━━━━━━━━━━━━\u001B[0m\u001B[37m\u001B[0m \u001B[1m166s\u001B[0m 170ms/step - accuracy: 0.7811 - loss: 0.4383\n",
      "Epoch 2/10\n",
      "\u001B[1m957/957\u001B[0m \u001B[32m━━━━━━━━━━━━━━━━━━━━\u001B[0m\u001B[37m\u001B[0m \u001B[1m237s\u001B[0m 248ms/step - accuracy: 0.9272 - loss: 0.1995\n",
      "Epoch 3/10\n",
      "\u001B[1m957/957\u001B[0m \u001B[32m━━━━━━━━━━━━━━━━━━━━\u001B[0m\u001B[37m\u001B[0m \u001B[1m296s\u001B[0m 310ms/step - accuracy: 0.9617 - loss: 0.1131\n",
      "Epoch 4/10\n",
      "\u001B[1m957/957\u001B[0m \u001B[32m━━━━━━━━━━━━━━━━━━━━\u001B[0m\u001B[37m\u001B[0m \u001B[1m289s\u001B[0m 302ms/step - accuracy: 0.9818 - loss: 0.0558\n",
      "Epoch 5/10\n",
      "\u001B[1m957/957\u001B[0m \u001B[32m━━━━━━━━━━━━━━━━━━━━\u001B[0m\u001B[37m\u001B[0m \u001B[1m195s\u001B[0m 203ms/step - accuracy: 0.9907 - loss: 0.0280\n",
      "Epoch 6/10\n",
      "\u001B[1m957/957\u001B[0m \u001B[32m━━━━━━━━━━━━━━━━━━━━\u001B[0m\u001B[37m\u001B[0m \u001B[1m176s\u001B[0m 183ms/step - accuracy: 0.9918 - loss: 0.0236\n",
      "Epoch 7/10\n",
      "\u001B[1m957/957\u001B[0m \u001B[32m━━━━━━━━━━━━━━━━━━━━\u001B[0m\u001B[37m\u001B[0m \u001B[1m175s\u001B[0m 182ms/step - accuracy: 0.9944 - loss: 0.0163\n",
      "Epoch 8/10\n",
      "\u001B[1m957/957\u001B[0m \u001B[32m━━━━━━━━━━━━━━━━━━━━\u001B[0m\u001B[37m\u001B[0m \u001B[1m235s\u001B[0m 246ms/step - accuracy: 0.9951 - loss: 0.0144\n",
      "Epoch 9/10\n",
      "\u001B[1m957/957\u001B[0m \u001B[32m━━━━━━━━━━━━━━━━━━━━\u001B[0m\u001B[37m\u001B[0m \u001B[1m230s\u001B[0m 240ms/step - accuracy: 0.9953 - loss: 0.0137\n",
      "Epoch 10/10\n",
      "\u001B[1m957/957\u001B[0m \u001B[32m━━━━━━━━━━━━━━━━━━━━\u001B[0m\u001B[37m\u001B[0m \u001B[1m227s\u001B[0m 237ms/step - accuracy: 0.9947 - loss: 0.0149\n",
      "\u001B[1m240/240\u001B[0m \u001B[32m━━━━━━━━━━━━━━━━━━━━\u001B[0m\u001B[37m\u001B[0m \u001B[1m25s\u001B[0m 96ms/step\n",
      "Accuracy: 0.8764\n",
      "F1 Score: 0.8759\n"
     ]
    }
   ],
   "execution_count": 8
  }
 ],
 "metadata": {
  "kernelspec": {
   "display_name": "Python 3",
   "language": "python",
   "name": "python3"
  },
  "language_info": {
   "codemirror_mode": {
    "name": "ipython",
    "version": 2
   },
   "file_extension": ".py",
   "mimetype": "text/x-python",
   "name": "python",
   "nbconvert_exporter": "python",
   "pygments_lexer": "ipython2",
   "version": "2.7.6"
  }
 },
 "nbformat": 4,
 "nbformat_minor": 5
}
