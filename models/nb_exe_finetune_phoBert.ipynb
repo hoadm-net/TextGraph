{
 "cells": [
  {
   "cell_type": "code",
   "id": "initial_id",
   "metadata": {
    "collapsed": true,
    "ExecuteTime": {
     "end_time": "2025-03-28T17:35:25.982628Z",
     "start_time": "2025-03-28T17:34:34.498034Z"
    }
   },
   "source": [
    "import time\n",
    "import torch.utils.data as Data\n",
    "import torch.nn.functional as F\n",
    "from transformers import AutoTokenizer, AutoModelForSequenceClassification\n",
    "from EDA.DataReader import DataReader\n",
    "import numpy as np\n",
    "from tqdm import tqdm\n",
    "from torch.optim import AdamW\n",
    "from transformers import get_scheduler\n",
    "import torch \n",
    "from torcheval.metrics.functional import multiclass_f1_score\n",
    "import warnings\n"
   ],
   "outputs": [],
   "execution_count": 1
  },
  {
   "metadata": {
    "ExecuteTime": {
     "end_time": "2025-03-28T17:35:25.991628Z",
     "start_time": "2025-03-28T17:35:25.984624Z"
    }
   },
   "cell_type": "code",
   "source": "warnings.filterwarnings(\"ignore\", category=UserWarning, module=\"sklearn\")",
   "id": "41d4cbd404ec86a1",
   "outputs": [],
   "execution_count": 2
  },
  {
   "metadata": {
    "ExecuteTime": {
     "end_time": "2025-03-28T17:35:25.999607Z",
     "start_time": "2025-03-28T17:35:25.993628Z"
    }
   },
   "cell_type": "code",
   "source": [
    "def custom_tokenizer(text):\n",
    "    return text.split()"
   ],
   "id": "48f00b172f6b02e9",
   "outputs": [],
   "execution_count": 3
  },
  {
   "metadata": {
    "ExecuteTime": {
     "end_time": "2025-03-28T17:35:26.586656Z",
     "start_time": "2025-03-28T17:35:26.002108Z"
    }
   },
   "cell_type": "code",
   "source": [
    "# pre-processing data\n",
    "dataset = DataReader(\"UIT_VFSC\") # UIT\n",
    "# dataset = DataReader(\"\") # dataset foody_raw\n",
    "df_train = dataset.df_train\n",
    "df_test = dataset.df_test\n",
    "df_total =dataset.df_total\n",
    "n_labels = int(df_total[\"label\"].max().item() + 1)"
   ],
   "id": "d6a88bf175f9487a",
   "outputs": [],
   "execution_count": 4
  },
  {
   "metadata": {
    "ExecuteTime": {
     "end_time": "2025-03-28T17:35:44.138337Z",
     "start_time": "2025-03-28T17:35:26.591139Z"
    }
   },
   "cell_type": "code",
   "source": [
    "# setup model\n",
    "tokenizer = AutoTokenizer.from_pretrained(\"vinai/phobert-base\", use_fast=False)\n",
    "model = AutoModelForSequenceClassification.from_pretrained(\"vinai/phobert-base\", num_labels=n_labels)\n",
    "optimizer = AdamW(model.parameters(), lr=5e-5)\n",
    "lr_scheduler = get_scheduler(\n",
    "    name=\"linear\", optimizer=optimizer, num_warmup_steps=0, num_training_steps=1000\n",
    ")"
   ],
   "id": "4d4a0b646d0bbb27",
   "outputs": [
    {
     "name": "stderr",
     "output_type": "stream",
     "text": [
      "Some weights of RobertaForSequenceClassification were not initialized from the model checkpoint at vinai/phobert-base and are newly initialized: ['classifier.dense.bias', 'classifier.dense.weight', 'classifier.out_proj.bias', 'classifier.out_proj.weight']\n",
      "You should probably TRAIN this model on a down-stream task to be able to use it for predictions and inference.\n"
     ]
    }
   ],
   "execution_count": 5
  },
  {
   "metadata": {
    "ExecuteTime": {
     "end_time": "2025-03-28T17:35:44.160442Z",
     "start_time": "2025-03-28T17:35:44.143623Z"
    }
   },
   "cell_type": "code",
   "source": [
    "train_range = range(len(df_train))\n",
    "test_range = range(len(df_train), len(df_total))\n",
    "training_mask = np.zeros(len(df_total))\n",
    "training_mask[train_range] = 1\n",
    "\n",
    "test_mask = np.zeros(len(df_total))\n",
    "test_mask[test_range] = 1\n",
    "\n",
    "training_mask = training_mask.astype(np.bool_)\n",
    "\n",
    "test_mask = test_mask.astype(np.bool_)"
   ],
   "id": "823d4b67d576cf3b",
   "outputs": [],
   "execution_count": 6
  },
  {
   "metadata": {
    "ExecuteTime": {
     "end_time": "2025-03-28T17:35:50.037778Z",
     "start_time": "2025-03-28T17:35:44.164802Z"
    }
   },
   "cell_type": "code",
   "source": [
    "# \n",
    "inputs = tokenizer(df_total[\"corpus\"].tolist(), return_tensors='pt', padding=True, truncation=True, max_length=256)\n",
    "input_ids_total = inputs['input_ids']\n",
    "attention_mask_total = inputs['attention_mask']\n",
    "input_ids = input_ids_total\n",
    "attention_mask = attention_mask_total\n",
    "dataloader = Data.DataLoader(\n",
    "        Data.TensorDataset(input_ids[training_mask], attention_mask[training_mask]),\n",
    "        batch_size=64\n",
    "    )\n",
    "indices = np.arange(len(df_total))"
   ],
   "id": "9245f628e349f520",
   "outputs": [],
   "execution_count": 7
  },
  {
   "metadata": {
    "ExecuteTime": {
     "end_time": "2025-03-28T17:36:07.299800Z",
     "start_time": "2025-03-28T17:36:05.901220Z"
    }
   },
   "cell_type": "code",
   "source": [
    "# split batch\n",
    "batch_labels = []\n",
    "for i, batch in tqdm(enumerate(dataloader)):\n",
    "    input_ids, attention_mask = batch\n",
    "    batch_start = i * 64\n",
    "    batch_end = batch_start + len(input_ids)\n",
    "    batch_indices = indices[batch_start:batch_end]\n",
    "    labels = [df_total[\"label\"].tolist()[idx] for idx in batch_indices]\n",
    "    if len(labels) < 64:\n",
    "        labels += [0] * (64 - len(labels))\n",
    "    batch_labels.append(labels)\n",
    "batch_labels = torch.tensor(batch_labels)\n",
    "print(batch_labels.shape)"
   ],
   "id": "1344b7c3bc25c552",
   "outputs": [
    {
     "name": "stderr",
     "output_type": "stream",
     "text": [
      "179it [00:01, 129.11it/s]"
     ]
    },
    {
     "name": "stdout",
     "output_type": "stream",
     "text": [
      "torch.Size([179, 64])\n"
     ]
    },
    {
     "name": "stderr",
     "output_type": "stream",
     "text": [
      "\n"
     ]
    }
   ],
   "execution_count": 9
  },
  {
   "metadata": {
    "ExecuteTime": {
     "end_time": "2025-03-28T17:36:09.316063Z",
     "start_time": "2025-03-28T17:36:09.310060Z"
    }
   },
   "cell_type": "code",
   "source": [
    "# evaluate model\n",
    "def evaluate(model, input_ids, attention_mask):\n",
    "    model.eval()\n",
    "    with torch.no_grad():\n",
    "        labels = df_total[\"label\"][test_mask].tolist()\n",
    "        output = model(input_ids, attention_mask)\n",
    "        logits = output.logits\n",
    "        logits = torch.argmax(logits, dim=1)\n",
    "        labels = torch.tensor(labels)\n",
    "        correct = torch.sum(logits == labels)\n",
    "\n",
    "        acc = correct.item() * 1.0 / len(labels)\n",
    "        mf1 = multiclass_f1_score(logits.type(torch.long), labels.type(torch.long), num_classes=n_labels, average='macro')\n",
    "        wf1 = multiclass_f1_score(logits.type(torch.long), labels.type(torch.long), num_classes=n_labels, average='weighted')\n",
    "        return acc, mf1, wf1"
   ],
   "id": "d4f11972fe7c5906",
   "outputs": [],
   "execution_count": 10
  },
  {
   "metadata": {
    "ExecuteTime": {
     "end_time": "2025-03-28T18:12:14.720437Z",
     "start_time": "2025-03-28T17:36:11.784841Z"
    }
   },
   "cell_type": "code",
   "source": [
    "dur = []\n",
    "max_acc = 0\n",
    "max_f1 = 0\n",
    "for epoch in range(10):\n",
    "    if epoch >= 3:\n",
    "        t0 = time.time()\n",
    "    model.train()\n",
    "    for i, batch in tqdm(enumerate(dataloader), total=len(dataloader), desc=f\"Epoch {epoch:05d}\"):\n",
    "        input_ids_train, attention_mask_train = [x for x in batch]\n",
    "        labels_train = batch_labels[i]\n",
    "        output = model(input_ids_train, attention_mask_train)\n",
    "        logits = torch.Tensor(output.logits)\n",
    "        labels_train = labels_train[:len(input_ids_train)]\n",
    "        logits = logits[:len(input_ids_train)]\n",
    "        loss = F.cross_entropy(logits.to(torch.float32), labels_train.type(torch.LongTensor))\n",
    "        loss.backward()\n",
    "        optimizer.step()\n",
    "        lr_scheduler.step()\n",
    "        optimizer.zero_grad()\n",
    "\n",
    "    if epoch >= 3:\n",
    "        dur.append(time.time() - t0)\n",
    "    \n",
    "    acc, mf1, wf1 = evaluate(model, input_ids_total[test_mask], attention_mask_total[test_mask])\n",
    "    print(f\"Epoch {epoch:05d} | Loss {loss.item():.4f} | Test Acc {acc:.4f} | mF1 {mf1:.4f} | wF1 {wf1:.4f}| Time(s) {np.mean(dur):.4f}\")\n",
    "\n",
    "    if acc > max_acc:\n",
    "        max_acc = acc\n",
    "    max_f1 = max(max(max_f1, wf1), mf1)\n",
    "    torch.save(model.state_dict(), \"model.pth\")"
   ],
   "id": "e7262850e026d16b",
   "outputs": [
    {
     "name": "stderr",
     "output_type": "stream",
     "text": [
      "Epoch 00000:   6%|▌         | 11/179 [36:01<9:10:16, 196.53s/it] \n",
      "\n",
      "KeyboardInterrupt\n",
      "\n"
     ]
    }
   ],
   "execution_count": 11
  },
  {
   "metadata": {},
   "cell_type": "code",
   "outputs": [],
   "execution_count": null,
   "source": "",
   "id": "c1a15de57fcd97a9"
  }
 ],
 "metadata": {
  "kernelspec": {
   "display_name": "Python 3",
   "language": "python",
   "name": "python3"
  },
  "language_info": {
   "codemirror_mode": {
    "name": "ipython",
    "version": 2
   },
   "file_extension": ".py",
   "mimetype": "text/x-python",
   "name": "python",
   "nbconvert_exporter": "python",
   "pygments_lexer": "ipython2",
   "version": "2.7.6"
  }
 },
 "nbformat": 4,
 "nbformat_minor": 5
}
