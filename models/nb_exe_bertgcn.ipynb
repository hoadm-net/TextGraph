{
 "cells": [
  {
   "cell_type": "code",
   "id": "initial_id",
   "metadata": {
    "collapsed": true,
    "ExecuteTime": {
     "end_time": "2025-03-28T19:10:44.933569Z",
     "start_time": "2025-03-28T19:10:27.216955Z"
    }
   },
   "source": [
    "import warnings\n",
    "warnings.filterwarnings('ignore')\n",
    "from build_graph import BuildGraph\n",
    "from py_bertgcn import BERTGCN\n",
    "import torch.nn.functional as F\n",
    "import torch \n",
    "from tqdm import tqdm\n",
    "import torch.utils.data as Data\n",
    "from torch.optim import lr_scheduler\n",
    "from sklearn.metrics import accuracy_score\n",
    "from ignite.engine import Events, Engine\n",
    "from ignite.metrics import Accuracy, Loss, Precision, Recall"
   ],
   "outputs": [],
   "execution_count": 1
  },
  {
   "metadata": {
    "ExecuteTime": {
     "end_time": "2025-03-28T19:11:24.181196Z",
     "start_time": "2025-03-28T19:10:44.939789Z"
    }
   },
   "cell_type": "code",
   "source": [
    "# Build Graph\n",
    "bg = BuildGraph(\"UIT_VFSC\")\n",
    "g = bg.g\n",
    "n_labels = int(bg.df_total[\"label\"].max().item() + 1)\n",
    "print(g)"
   ],
   "id": "c198b091629bf067",
   "outputs": [
    {
     "name": "stdout",
     "output_type": "stream",
     "text": [
      "step pre processing\n",
      "step add word doc edge\n"
     ]
    },
    {
     "name": "stderr",
     "output_type": "stream",
     "text": [
      "Processing documents: 16175it [00:07, 2049.62it/s]\n"
     ]
    },
    {
     "name": "stdout",
     "output_type": "stream",
     "text": [
      "step add word word edge\n"
     ]
    },
    {
     "name": "stderr",
     "output_type": "stream",
     "text": [
      "Constructing word pair count frequency: 100%|██████████| 87309/87309 [00:11<00:00, 7597.74it/s]\n",
      "Adding word_word edges: 100%|██████████| 337534/337534 [00:02<00:00, 160672.79it/s]\n"
     ]
    },
    {
     "name": "stdout",
     "output_type": "stream",
     "text": [
      "step setup graph\n",
      "Graph(num_nodes=19020, num_edges=595385,\n",
      "      ndata_schemes={'x': Scheme(shape=(2845,), dtype=torch.float32), 'label': Scheme(shape=(), dtype=torch.float32), 'train_mask': Scheme(shape=(), dtype=torch.bool), 'test_mask': Scheme(shape=(), dtype=torch.bool), 'val_mask': Scheme(shape=(), dtype=torch.bool)}\n",
      "      edata_schemes={'weight': Scheme(shape=(), dtype=torch.float32)})\n"
     ]
    }
   ],
   "execution_count": 2
  },
  {
   "metadata": {
    "ExecuteTime": {
     "end_time": "2025-03-28T19:11:24.203304Z",
     "start_time": "2025-03-28T19:11:24.190004Z"
    }
   },
   "cell_type": "code",
   "source": [
    "training_mask = g.ndata['train_mask']\n",
    "val_mask = g.ndata['val_mask']\n",
    "test_mask = g.ndata['test_mask']"
   ],
   "id": "79f23e38e05cb99a",
   "outputs": [],
   "execution_count": 3
  },
  {
   "metadata": {
    "ExecuteTime": {
     "end_time": "2025-03-28T19:11:24.259346Z",
     "start_time": "2025-03-28T19:11:24.210335Z"
    }
   },
   "cell_type": "code",
   "source": [
    "nb_train,nb_val, nb_test = training_mask.sum(), val_mask.sum(), test_mask.sum()\n",
    "node_features = g.ndata['x']\n",
    "nb_node = node_features.shape[0]\n",
    "nb_word = nb_node - nb_train - nb_test\n"
   ],
   "id": "18959289386ee56a",
   "outputs": [],
   "execution_count": 4
  },
  {
   "metadata": {
    "jupyter": {
     "is_executing": true
    },
    "ExecuteTime": {
     "start_time": "2025-03-28T19:11:24.269183Z"
    }
   },
   "cell_type": "code",
   "source": [
    "# Build model\n",
    "# Example usage\n",
    "model = BERTGCN(bert_model_name='vinai/phobert-base-v2', classes=n_labels, m=0.7, n_hidden=300, dropout=0.5)\n",
    "optimizer = torch.optim.Adam([\n",
    "        {'params': model.bert_model.parameters(), 'lr': 1e-5},\n",
    "        {'params': model.gcn.parameters(), 'lr': 1e-3},\n",
    "    ], lr=1e-3\n",
    ")\n",
    "scheduler = lr_scheduler.MultiStepLR(optimizer, milestones=[30], gamma=0.1)\n",
    "max_length = model.max_length\n",
    "# Dummy data\n",
    "\n",
    "inputs = model.bert(bg.df_total[\"corpus\"].tolist(), return_tensors='pt', padding=True, truncation=True, max_length=max_length)\n",
    "input_ids = inputs['input_ids']\n",
    "attention_mask = inputs['attention_mask']\n",
    "max_length = input_ids.shape[1]\n",
    "input_ids = torch.cat([\n",
    "    input_ids,\n",
    "    torch.zeros((len(bg.vocab), max_length), dtype=torch.long)\n",
    "\n",
    "])\n",
    "\n",
    "attention_mask = torch.cat([\n",
    "    attention_mask,\n",
    "    torch.zeros((len(bg.vocab), max_length), dtype=torch.long),\n",
    "])\n",
    "g.ndata['train'], g.ndata['test'], g.ndata['val'] = \\\n",
    "    torch.FloatTensor(bg.training_mask), torch.FloatTensor(bg.test_mask), torch.FloatTensor(bg.val_mask)\n",
    "max_acc = 0\n",
    "max_f1 = 0"
   ],
   "id": "410af4ccafb586f",
   "outputs": [
    {
     "name": "stderr",
     "output_type": "stream",
     "text": [
      "Some weights of RobertaForSequenceClassification were not initialized from the model checkpoint at vinai/phobert-base-v2 and are newly initialized: ['classifier.dense.bias', 'classifier.dense.weight', 'classifier.out_proj.bias', 'classifier.out_proj.weight']\n",
      "You should probably TRAIN this model on a down-stream task to be able to use it for predictions and inference.\n"
     ]
    }
   ],
   "execution_count": null
  },
  {
   "metadata": {
    "jupyter": {
     "is_executing": true
    }
   },
   "cell_type": "code",
   "source": [
    "g.ndata['input_ids'], g.ndata['attention_mask'] = input_ids, attention_mask\n",
    "doc_mask = training_mask + val_mask + test_mask\n",
    "g.ndata['cls_feats'] = torch.zeros((nb_node, model.feat_dim))"
   ],
   "id": "3145b0efc12c59a3",
   "outputs": [],
   "execution_count": null
  },
  {
   "metadata": {
    "jupyter": {
     "is_executing": true
    }
   },
   "cell_type": "code",
   "source": [
    "def update_feature():\n",
    "    global model, g, doc_mask\n",
    "    # no gradient needed, uses a large batchsize to speed up the process\n",
    "    dataloader = Data.DataLoader(\n",
    "        Data.TensorDataset(g.ndata['input_ids'][doc_mask], g.ndata['attention_mask'][doc_mask]),\n",
    "        batch_size=64\n",
    "    )\n",
    "    num_batches = len(dataloader)\n",
    "    with torch.no_grad():\n",
    "        model.eval()\n",
    "        cls_list = []\n",
    "        for i, batch in tqdm(enumerate(dataloader),total=num_batches, desc='Updating features'):\n",
    "            input_ids, attention_mask = [x for x in batch]\n",
    "            output = model.bert_model(input_ids=input_ids, attention_mask=attention_mask, output_hidden_states=True).hidden_states[-1][:, 0]\n",
    "            cls_list.append(output.cpu())\n",
    "        cls_feat = torch.cat(cls_list, axis=0)\n",
    "    g.ndata['cls_feats'][doc_mask] = cls_feat\n",
    "    torch.cuda.set_device(2)\n",
    "    torch.cuda.empty_cache()\n",
    "    return g"
   ],
   "id": "2a05d74e7df85fa5",
   "outputs": [],
   "execution_count": null
  },
  {
   "metadata": {
    "jupyter": {
     "is_executing": true
    }
   },
   "cell_type": "code",
   "source": [
    "# Training model\n",
    "def train_step(engine, batch):\n",
    "    global model, g\n",
    "    model.train()\n",
    "    optimizer.zero_grad()\n",
    "    (idx, ) = [x for x in batch]\n",
    "    optimizer.zero_grad()\n",
    "    train_mask = g.ndata['train'][idx].type(torch.BoolTensor)\n",
    "    y_pred = model(g, idx)[train_mask].to(torch.float32)\n",
    "    y_true = g.ndata['label'][idx][train_mask].type(torch.long)\n",
    "    loss = F.nll_loss(y_pred, y_true)\n",
    "    loss.backward()\n",
    "    optimizer.step()\n",
    "    g.ndata['cls_feats'].detach_()\n",
    "    train_loss = loss.item()\n",
    "    with torch.no_grad():\n",
    "        if train_mask.sum() > 0:\n",
    "            y_true = y_true.detach().cpu()\n",
    "            y_pred = y_pred.argmax(axis=1).detach().cpu()\n",
    "            train_acc = accuracy_score(y_true, y_pred)\n",
    "        else:\n",
    "            train_acc = 1\n",
    "    return train_loss, train_acc\n",
    "\n",
    "\n",
    "trainer = Engine(train_step)\n",
    "\n",
    "\n",
    "@trainer.on(Events.EPOCH_COMPLETED)\n",
    "def reset_graph(trainer):\n",
    "    scheduler.step()\n",
    "    update_feature()\n",
    "    torch.cuda.empty_cache()\n"
   ],
   "id": "a10fe34de7354ca",
   "outputs": [],
   "execution_count": null
  },
  {
   "metadata": {
    "jupyter": {
     "is_executing": true
    }
   },
   "cell_type": "code",
   "source": [
    "# test function\n",
    "def test_step(engine, batch):\n",
    "    global model, g\n",
    "    with torch.no_grad():\n",
    "        model.eval()\n",
    "        (idx, ) = [x for x in batch]\n",
    "        y_pred = model(g, idx).to(torch.float32)\n",
    "        y_true = g.ndata['label'][idx].to(torch.long)\n",
    "        torch.cuda.empty_cache()\n",
    "        return y_pred, y_true"
   ],
   "id": "41b1f06e700ac17e",
   "outputs": [],
   "execution_count": null
  },
  {
   "metadata": {
    "jupyter": {
     "is_executing": true
    }
   },
   "cell_type": "code",
   "source": [
    "# prepare index\n",
    "batch_size = 64\n",
    "train_idx = Data.TensorDataset(torch.arange(0, nb_train, dtype=torch.long))\n",
    "val_idx = Data.TensorDataset(torch.arange(nb_train, nb_train+nb_val, dtype=torch.long))\n",
    "test_idx = Data.TensorDataset(torch.arange(nb_node-nb_test, nb_node, dtype=torch.long))\n",
    "doc_idx = Data.ConcatDataset([train_idx, val_idx, test_idx])\n",
    "idx_loader_train = Data.DataLoader(train_idx, batch_size=64, shuffle=True)\n",
    "idx_loader_val = Data.DataLoader(val_idx, batch_size=64)\n",
    "idx_loader_test = Data.DataLoader(test_idx, batch_size=64)\n",
    "idx_loader = Data.DataLoader(doc_idx, batch_size=64, shuffle=True)"
   ],
   "id": "9ae48a417d4467bd",
   "outputs": [],
   "execution_count": null
  },
  {
   "metadata": {
    "jupyter": {
     "is_executing": true
    }
   },
   "cell_type": "code",
   "source": [
    "evaluator = Engine(test_step)\n",
    "metrics={\n",
    "    'acc': Accuracy(),\n",
    "    'nll': Loss(torch.nn.NLLLoss()),\n",
    "    'precision': Precision(average=False),\n",
    "    'recall': Recall(average=False)\n",
    "}\n",
    "for n, f in metrics.items():\n",
    "    f.attach(evaluator, n)\n",
    "\n",
    "\n",
    "@trainer.on(Events.EPOCH_COMPLETED)\n",
    "def log_training_results(trainer):\n",
    "    evaluator.run(idx_loader_train)\n",
    "    metrics = evaluator.state.metrics\n",
    "    train_acc, train_nll = metrics[\"acc\"], metrics[\"nll\"]\n",
    "\n",
    "    evaluator.run(idx_loader_val)\n",
    "    metrics = evaluator.state.metrics\n",
    "    val_acc, val_nll = metrics[\"acc\"], metrics[\"nll\"]\n",
    "\n",
    "    evaluator.run(idx_loader_test)\n",
    "    metrics = evaluator.state.metrics\n",
    "    test_acc, test_nll = metrics[\"acc\"], metrics[\"nll\"]\n",
    "\n",
    "    test_precision, test_recall = metrics[\"precision\"].sum(), metrics[\"recall\"].sum()\n",
    "    test_f1 = (test_precision * test_recall * 2 / (test_precision + test_recall ))\n",
    "\n",
    "\n",
    "    print(f\"Epoch {trainer.state.epoch} -  train acc: {train_acc:.4f} - val acc: {val_acc:.4f} - test acc: {test_acc:.4f} - test f1: {test_f1:.4f}\")\n",
    "        \n",
    "\n",
    "g = update_feature()\n",
    "trainer.run(idx_loader, max_epochs=50)"
   ],
   "id": "51218b8e4ef5d359",
   "outputs": [],
   "execution_count": null
  },
  {
   "metadata": {
    "jupyter": {
     "is_executing": true
    }
   },
   "cell_type": "code",
   "source": "",
   "id": "4534f121b85f23f",
   "outputs": [],
   "execution_count": null
  }
 ],
 "metadata": {
  "kernelspec": {
   "display_name": "Python 3",
   "language": "python",
   "name": "python3"
  },
  "language_info": {
   "codemirror_mode": {
    "name": "ipython",
    "version": 2
   },
   "file_extension": ".py",
   "mimetype": "text/x-python",
   "name": "python",
   "nbconvert_exporter": "python",
   "pygments_lexer": "ipython2",
   "version": "2.7.6"
  }
 },
 "nbformat": 4,
 "nbformat_minor": 5
}
