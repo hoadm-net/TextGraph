{
 "cells": [
  {
   "cell_type": "code",
   "id": "initial_id",
   "metadata": {
    "collapsed": true,
    "ExecuteTime": {
     "end_time": "2025-03-25T16:38:58.719486Z",
     "start_time": "2025-03-25T16:38:45.529965Z"
    }
   },
   "source": [
    "from EDA.DataReader import DataReader\n",
    "from sklearn.metrics import accuracy_score\n",
    "from sklearn.naive_bayes import MultinomialNB\n",
    "from torcheval.metrics.functional import multiclass_f1_score\n",
    "import torch\n",
    "import warnings"
   ],
   "outputs": [],
   "execution_count": 1
  },
  {
   "metadata": {},
   "cell_type": "code",
   "outputs": [],
   "execution_count": null,
   "source": "warnings.filterwarnings(\"ignore\", category=UserWarning, module=\"sklearn\")",
   "id": "e72057f653322b07"
  },
  {
   "metadata": {
    "ExecuteTime": {
     "end_time": "2025-03-25T16:38:58.734020Z",
     "start_time": "2025-03-25T16:38:58.723089Z"
    }
   },
   "cell_type": "code",
   "source": [
    "def custom_tokenizer(text):\n",
    "    return text.split()"
   ],
   "id": "11eaee7ad4dba43b",
   "outputs": [],
   "execution_count": 2
  },
  {
   "metadata": {
    "ExecuteTime": {
     "end_time": "2025-03-25T16:46:11.723318Z",
     "start_time": "2025-03-25T16:46:07.082264Z"
    }
   },
   "cell_type": "code",
   "source": [
    "# pre processing\n",
    "# dataset = DataReader(\"UIT_VFSC\") # UIT\n",
    "dataset = DataReader(\"\") # dataset foody_raw\n",
    "df_train = dataset.df_train\n",
    "df_test = dataset.df_test\n",
    "df_total =dataset.df_total\n",
    "n_labels = int(df_total[\"label\"].max().item() + 1)\n"
   ],
   "id": "363c60a885f79d48",
   "outputs": [],
   "execution_count": 7
  },
  {
   "metadata": {
    "ExecuteTime": {
     "end_time": "2025-03-25T16:45:06.846216Z",
     "start_time": "2025-03-25T16:45:03.839045Z"
    }
   },
   "cell_type": "code",
   "source": [
    "# evaluate model\n",
    "from sklearn.feature_extraction.text import CountVectorizer\n",
    "# change text to float\n",
    "cv = CountVectorizer(tokenizer=custom_tokenizer, stop_words=[])\n",
    "data_train = cv.fit_transform(df_train[\"corpus\"])\n",
    "data_test = cv.transform(df_test[\"corpus\"])\n",
    "# use model\n",
    "naive_bayes = MultinomialNB()\n",
    "naive_bayes.fit(data_train, df_train[\"label\"])\n",
    "y_p = naive_bayes.predict(data_test)\n",
    "accuracy_nb = accuracy_score(df_test[\"label\"], y_p)\n",
    "print(f\"Accuracy: {accuracy_nb:.4f}\")\n",
    "# change type to torch tensor\n",
    "y_p = torch.tensor(y_p).type(torch.long)\n",
    "label = torch.tensor(df_test[\"label\"].tolist()).type(torch.long)\n",
    "mf1 = multiclass_f1_score(y_p, label, num_classes=n_labels, average='macro')\n",
    "wf1 = multiclass_f1_score(y_p, label, num_classes=n_labels, average='weighted')\n",
    "\n",
    "print(f\"F1-Score: {max(mf1, wf1):.4f}\")\n"
   ],
   "id": "10e8d7f4a5098b99",
   "outputs": [
    {
     "name": "stderr",
     "output_type": "stream",
     "text": [
      "D:\\nguyennha\\TextGraph\\.venv\\Lib\\site-packages\\sklearn\\feature_extraction\\text.py:517: UserWarning: The parameter 'token_pattern' will not be used since 'tokenizer' is not None'\n",
      "  warnings.warn(\n"
     ]
    },
    {
     "name": "stdout",
     "output_type": "stream",
     "text": [
      "Accuracy: 0.8529\n",
      "F1-Score: 0.8527\n"
     ]
    }
   ],
   "execution_count": 6
  },
  {
   "metadata": {},
   "cell_type": "code",
   "source": "",
   "id": "e132b1113b5a6260",
   "outputs": [],
   "execution_count": null
  },
  {
   "metadata": {},
   "cell_type": "code",
   "source": "",
   "id": "ee5f26bdcf2fb035",
   "outputs": [],
   "execution_count": null
  }
 ],
 "metadata": {
  "kernelspec": {
   "display_name": "Python 3",
   "language": "python",
   "name": "python3"
  },
  "language_info": {
   "codemirror_mode": {
    "name": "ipython",
    "version": 2
   },
   "file_extension": ".py",
   "mimetype": "text/x-python",
   "name": "python",
   "nbconvert_exporter": "python",
   "pygments_lexer": "ipython2",
   "version": "2.7.6"
  }
 },
 "nbformat": 4,
 "nbformat_minor": 5
}
