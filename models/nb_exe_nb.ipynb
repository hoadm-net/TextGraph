{
 "cells": [
  {
   "cell_type": "code",
   "id": "initial_id",
   "metadata": {
    "collapsed": true,
    "ExecuteTime": {
     "end_time": "2025-03-14T18:30:57.456545Z",
     "start_time": "2025-03-14T18:30:36.367560Z"
    }
   },
   "source": [
    "from EDA.DataReader import DataReader\n",
    "from sklearn.metrics import accuracy_score\n",
    "from sklearn.metrics import f1_score\n",
    "from sklearn.naive_bayes import MultinomialNB\n",
    "import pandas as pd"
   ],
   "outputs": [],
   "execution_count": 1
  },
  {
   "metadata": {
    "ExecuteTime": {
     "end_time": "2025-03-14T18:31:11.697495Z",
     "start_time": "2025-03-14T18:30:57.457942Z"
    }
   },
   "cell_type": "code",
   "source": [
    "# pre processing\n",
    "dataset = DataReader(\"UIT_VFSC\")\n",
    "# dataset = DataReader(\"\") # Dữ liệu foody_raw\n",
    "df_train = pd.concat([dataset.df_train, dataset.df_dev])\n",
    "df_test = dataset.df_test\n"
   ],
   "id": "363c60a885f79d48",
   "outputs": [],
   "execution_count": 2
  },
  {
   "metadata": {
    "ExecuteTime": {
     "end_time": "2025-03-14T18:31:11.867075Z",
     "start_time": "2025-03-14T18:31:11.698582Z"
    }
   },
   "cell_type": "code",
   "source": [
    "# evaluate model\n",
    "from sklearn.feature_extraction.text import CountVectorizer\n",
    "# change text to float\n",
    "cv = CountVectorizer()\n",
    "data_train = cv.fit_transform(df_train[\"corpus\"])\n",
    "data_test = cv.transform(df_test[\"corpus\"])\n",
    "# use model\n",
    "naive_bayes = MultinomialNB()\n",
    "naive_bayes.fit(data_train, df_train[\"label\"])\n",
    "y_p = naive_bayes.predict(data_test)\n",
    "accuracy_nb = accuracy_score(df_test[\"label\"], y_p)\n",
    "print(f'accuracy: {accuracy_nb:.2f}')\n",
    "f1_nb = f1_score(df_test[\"label\"], y_p, average='weighted')\n",
    "print(f\"F1-Score: {f1_nb:.2f}\")"
   ],
   "id": "83b06326b945ebb6",
   "outputs": [
    {
     "name": "stdout",
     "output_type": "stream",
     "text": [
      "accuracy: 0.86\n",
      "F1-Score: 0.84\n"
     ]
    }
   ],
   "execution_count": 3
  }
 ],
 "metadata": {
  "kernelspec": {
   "display_name": "Python 3",
   "language": "python",
   "name": "python3"
  },
  "language_info": {
   "codemirror_mode": {
    "name": "ipython",
    "version": 2
   },
   "file_extension": ".py",
   "mimetype": "text/x-python",
   "name": "python",
   "nbconvert_exporter": "python",
   "pygments_lexer": "ipython2",
   "version": "2.7.6"
  }
 },
 "nbformat": 4,
 "nbformat_minor": 5
}
