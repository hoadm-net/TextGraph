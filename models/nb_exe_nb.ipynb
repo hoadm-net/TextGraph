{
 "cells": [
  {
   "cell_type": "code",
   "id": "initial_id",
   "metadata": {
    "collapsed": true,
    "ExecuteTime": {
     "end_time": "2025-03-23T17:16:25.445495Z",
     "start_time": "2025-03-23T17:16:25.229716Z"
    }
   },
   "source": [
    "from EDA.DataReader import DataReader\n",
    "from sklearn.metrics import accuracy_score, f1_score\n",
    "from sklearn.naive_bayes import MultinomialNB"
   ],
   "outputs": [],
   "execution_count": 5
  },
  {
   "metadata": {
    "ExecuteTime": {
     "end_time": "2025-03-23T17:16:29.159022Z",
     "start_time": "2025-03-23T17:16:25.485413Z"
    }
   },
   "cell_type": "code",
   "source": [
    "# pre processing\n",
    "dataset = DataReader(\"UIT_VFSC\") # UIT\n",
    "# dataset = DataReader(\"\") # dataset foody_raw\n",
    "df_train = dataset.df_train\n",
    "df_test = dataset.df_test\n"
   ],
   "id": "363c60a885f79d48",
   "outputs": [],
   "execution_count": 6
  },
  {
   "metadata": {
    "ExecuteTime": {
     "end_time": "2025-03-23T17:16:31.156780Z",
     "start_time": "2025-03-23T17:16:29.171336Z"
    }
   },
   "cell_type": "code",
   "source": [
    "# evaluate model\n",
    "from sklearn.feature_extraction.text import CountVectorizer\n",
    "# change text to float\n",
    "cv = CountVectorizer()\n",
    "data_train = cv.fit_transform(df_train[\"corpus\"])\n",
    "data_test = cv.transform(df_test[\"corpus\"])\n",
    "# use model\n",
    "naive_bayes = MultinomialNB()\n",
    "naive_bayes.fit(data_train, df_train[\"label\"])\n",
    "y_p = naive_bayes.predict(data_test)\n",
    "accuracy_nb = accuracy_score(df_test[\"label\"], y_p)\n",
    "print(f\"Accuracy: {accuracy_nb:.4f}\")\n",
    "\n",
    "# use for multiclass (UIT)\n",
    "mf1 = f1_score(df_test[\"label\"], y_p, average='macro')\n",
    "wf1 = f1_score(df_test[\"label\"], y_p, average='weighted')\n",
    "\n",
    "print(f\"F1-Score: {max(mf1, wf1):.4f}\")\n",
    "\n",
    "# use for 2 class (foody)\n",
    "# f1 = f1_score(df_test[\"label\"], y_p)\n",
    "# print(f\"F1 Score: {f1:.4f}\")"
   ],
   "id": "83b06326b945ebb6",
   "outputs": [
    {
     "name": "stdout",
     "output_type": "stream",
     "text": [
      "Accuracy: 0.8402\n",
      "F1-Score: 0.8266\n"
     ]
    }
   ],
   "execution_count": 7
  },
  {
   "metadata": {
    "ExecuteTime": {
     "end_time": "2025-03-23T17:16:31.177789Z",
     "start_time": "2025-03-23T17:16:31.168812Z"
    }
   },
   "cell_type": "code",
   "source": "",
   "id": "e132b1113b5a6260",
   "outputs": [],
   "execution_count": 7
  }
 ],
 "metadata": {
  "kernelspec": {
   "display_name": "Python 3",
   "language": "python",
   "name": "python3"
  },
  "language_info": {
   "codemirror_mode": {
    "name": "ipython",
    "version": 2
   },
   "file_extension": ".py",
   "mimetype": "text/x-python",
   "name": "python",
   "nbconvert_exporter": "python",
   "pygments_lexer": "ipython2",
   "version": "2.7.6"
  }
 },
 "nbformat": 4,
 "nbformat_minor": 5
}
