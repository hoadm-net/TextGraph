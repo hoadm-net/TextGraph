{
 "cells": [
  {
   "cell_type": "code",
   "id": "initial_id",
   "metadata": {
    "collapsed": true,
    "ExecuteTime": {
     "end_time": "2025-03-25T17:11:05.123974Z",
     "start_time": "2025-03-25T17:10:47.631506Z"
    }
   },
   "source": [
    "import tensorflow as tf\n",
    "from tensorflow.keras.layers import Embedding, Dense, Dropout, SimpleRNN\n",
    "import numpy as np\n",
    "from EDA.DataReader import DataReader\n",
    "from keras.src.legacy.preprocessing.text import Tokenizer\n",
    "from keras.src.utils import pad_sequences\n",
    "from sklearn.metrics import accuracy_score\n",
    "import torch \n",
    "from torcheval.metrics.functional import multiclass_f1_score"
   ],
   "outputs": [],
   "execution_count": 1
  },
  {
   "metadata": {
    "ExecuteTime": {
     "end_time": "2025-03-25T17:11:09.043577Z",
     "start_time": "2025-03-25T17:11:05.126056Z"
    }
   },
   "cell_type": "code",
   "source": [
    "# dataReader = DataReader(\"UIT_VFSC\")\n",
    "dataReader = DataReader(\"\") # tập foody_raw\n",
    "df_train = dataReader.df_train\n",
    "df_test = dataReader.df_test\n",
    "df_total =dataReader.df_total\n",
    "n_labels = int(df_total[\"label\"].max().item() + 1)"
   ],
   "id": "f0b489cef15af166",
   "outputs": [],
   "execution_count": 2
  },
  {
   "metadata": {
    "jupyter": {
     "is_executing": true
    },
    "ExecuteTime": {
     "start_time": "2025-03-25T17:11:09.043577Z"
    }
   },
   "cell_type": "code",
   "source": [
    "# Tiền xử lý văn bản\n",
    "tokenizer = Tokenizer()\n",
    "tokenizer.fit_on_texts(df_train[\"corpus\"])\n",
    "max_words = len(tokenizer.word_index) + 1 \n",
    "sequences = tokenizer.texts_to_sequences(df_train[\"corpus\"])\n",
    "X_train = pad_sequences(sequences)\n",
    "y_train = np.array(df_train[\"label\"])\n",
    "X_Test = pad_sequences(tokenizer.texts_to_sequences(df_test[\"corpus\"]))\n",
    "y_test = np.array(df_test[\"label\"])\n",
    "# Xây dựng mô hình RNN\n",
    "model = tf.keras.models.Sequential([\n",
    "    Embedding(input_dim=max_words, output_dim=128),\n",
    "    SimpleRNN(128),\n",
    "    Dense(64, activation='relu'),\n",
    "    Dropout(0.5),\n",
    "    Dense(n_labels, activation='softmax')  \n",
    "])\n",
    "\n",
    "# Biên dịch mô hình\n",
    "model.compile(optimizer='adam', loss='sparse_categorical_crossentropy', metrics=['accuracy'])\n",
    "\n",
    "# Huấn luyện mô hình\n",
    "model.fit(X_train, y_train, epochs=10)\n",
    "y_pred = model.predict(X_Test)\n",
    "y_pred_classes = np.argmax(y_pred, axis=1)\n",
    "acc = accuracy_score(y_test, y_pred_classes)\n",
    "\n",
    "print(f\"Accuracy: {acc:.4f}\")\n",
    "\n",
    "y_pred_classes = torch.tensor(y_pred_classes).type(torch.long)\n",
    "label = torch.tensor(df_test[\"label\"].tolist()).type(torch.long)\n",
    "mf1 = multiclass_f1_score(y_pred_classes, label, num_classes=n_labels, average='macro')\n",
    "wf1 = multiclass_f1_score(y_pred_classes, label, num_classes=n_labels, average='weighted')\n",
    "print(f\"F1-Score: {max(mf1, wf1):.4f}\")\n"
   ],
   "id": "b33ef37aa5370aae",
   "outputs": [
    {
     "name": "stdout",
     "output_type": "stream",
     "text": [
      "Epoch 1/10\n",
      "\u001B[1m494/957\u001B[0m \u001B[32m━━━━━━━━━━\u001B[0m\u001B[37m━━━━━━━━━━\u001B[0m \u001B[1m6:16\u001B[0m 814ms/step - accuracy: 0.5430 - loss: 0.6948"
     ]
    }
   ],
   "execution_count": null
  }
 ],
 "metadata": {
  "kernelspec": {
   "display_name": "Python 3",
   "language": "python",
   "name": "python3"
  },
  "language_info": {
   "codemirror_mode": {
    "name": "ipython",
    "version": 2
   },
   "file_extension": ".py",
   "mimetype": "text/x-python",
   "name": "python",
   "nbconvert_exporter": "python",
   "pygments_lexer": "ipython2",
   "version": "2.7.6"
  }
 },
 "nbformat": 4,
 "nbformat_minor": 5
}
