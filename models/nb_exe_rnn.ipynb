{
 "cells": [
  {
   "cell_type": "code",
   "id": "initial_id",
   "metadata": {
    "collapsed": true,
    "ExecuteTime": {
     "end_time": "2025-03-23T16:53:25.316945Z",
     "start_time": "2025-03-23T16:53:25.268556Z"
    }
   },
   "source": [
    "import tensorflow as tf\n",
    "from tensorflow.keras.layers import Embedding, Dense, Dropout, SimpleRNN\n",
    "import numpy as np\n",
    "from EDA.DataReader import DataReader\n",
    "from keras.src.legacy.preprocessing.text import Tokenizer\n",
    "from keras.src.utils import pad_sequences\n",
    "from sklearn.metrics import accuracy_score, f1_score\n"
   ],
   "outputs": [],
   "execution_count": 11
  },
  {
   "metadata": {
    "ExecuteTime": {
     "end_time": "2025-03-23T18:42:50.458243Z",
     "start_time": "2025-03-23T16:53:25.323971Z"
    }
   },
   "cell_type": "code",
   "source": [
    "# dataReader = DataReader(\"UIT_VFSC\")\n",
    "dataReader = DataReader(\"\") # tập foody_raw\n",
    "df_train = dataReader.df_train\n",
    "df_test = dataReader.df_test\n",
    "# Tiền xử lý văn bản\n",
    "tokenizer = Tokenizer()\n",
    "tokenizer.fit_on_texts(df_train[\"corpus\"])\n",
    "max_words = len(tokenizer.word_index) + 1 \n",
    "sequences = tokenizer.texts_to_sequences(df_train[\"corpus\"])\n",
    "X_train = pad_sequences(sequences)\n",
    "y_train = np.array(df_train[\"label\"])\n",
    "X_Test = pad_sequences(tokenizer.texts_to_sequences(df_test[\"corpus\"]))\n",
    "y_test = np.array(df_test[\"label\"])\n",
    "# Xây dựng mô hình RNN\n",
    "model = tf.keras.models.Sequential([\n",
    "    Embedding(input_dim=max_words, output_dim=128),\n",
    "    SimpleRNN(128),\n",
    "    Dense(64, activation='relu'),\n",
    "    Dropout(0.5),\n",
    "    # Dense(3, activation='softmax')  # Multiclass UIT\n",
    "    Dense(2, activation='softmax') # 2 classes foody\n",
    "])\n",
    "\n",
    "# Biên dịch mô hình\n",
    "model.compile(optimizer='adam', loss='sparse_categorical_crossentropy', metrics=['accuracy'])\n",
    "\n",
    "# Huấn luyện mô hình\n",
    "model.fit(X_train, y_train, epochs=10)\n",
    "y_pred = model.predict(X_Test)\n",
    "y_pred_classes = np.argmax(y_pred, axis=1)\n",
    "acc = accuracy_score(y_test, y_pred_classes)\n",
    "\n",
    "print(f\"Accuracy: {acc:.4f}\")\n",
    "\n",
    "# use for multiclass (UIT)\n",
    "# mf1 = f1_score(df_test[\"label\"], y_pred_classes, average='macro')\n",
    "# wf1 = f1_score(df_test[\"label\"], y_pred_classes, average='weighted')\n",
    "\n",
    "# print(f\"F1-Score: {max(mf1, wf1):.4f}\")\n",
    "\n",
    "# use for 2 class (foody)\n",
    "f1 = f1_score(y_test, y_pred_classes)\n",
    "print(f\"F1 Score: {f1:.4f}\")\n"
   ],
   "id": "b33ef37aa5370aae",
   "outputs": [
    {
     "name": "stdout",
     "output_type": "stream",
     "text": [
      "Epoch 1/10\n",
      "\u001B[1m957/957\u001B[0m \u001B[32m━━━━━━━━━━━━━━━━━━━━\u001B[0m\u001B[37m\u001B[0m \u001B[1m783s\u001B[0m 810ms/step - accuracy: 0.5281 - loss: 0.7137\n",
      "Epoch 2/10\n",
      "\u001B[1m957/957\u001B[0m \u001B[32m━━━━━━━━━━━━━━━━━━━━\u001B[0m\u001B[37m\u001B[0m \u001B[1m883s\u001B[0m 923ms/step - accuracy: 0.6709 - loss: 0.6158\n",
      "Epoch 3/10\n",
      "\u001B[1m957/957\u001B[0m \u001B[32m━━━━━━━━━━━━━━━━━━━━\u001B[0m\u001B[37m\u001B[0m \u001B[1m697s\u001B[0m 727ms/step - accuracy: 0.7419 - loss: 0.5320\n",
      "Epoch 4/10\n",
      "\u001B[1m957/957\u001B[0m \u001B[32m━━━━━━━━━━━━━━━━━━━━\u001B[0m\u001B[37m\u001B[0m \u001B[1m638s\u001B[0m 667ms/step - accuracy: 0.7741 - loss: 0.4952\n",
      "Epoch 5/10\n",
      "\u001B[1m957/957\u001B[0m \u001B[32m━━━━━━━━━━━━━━━━━━━━\u001B[0m\u001B[37m\u001B[0m \u001B[1m670s\u001B[0m 700ms/step - accuracy: 0.8198 - loss: 0.4326\n",
      "Epoch 6/10\n",
      "\u001B[1m957/957\u001B[0m \u001B[32m━━━━━━━━━━━━━━━━━━━━\u001B[0m\u001B[37m\u001B[0m \u001B[1m619s\u001B[0m 646ms/step - accuracy: 0.8334 - loss: 0.4009\n",
      "Epoch 7/10\n",
      "\u001B[1m957/957\u001B[0m \u001B[32m━━━━━━━━━━━━━━━━━━━━\u001B[0m\u001B[37m\u001B[0m \u001B[1m293s\u001B[0m 306ms/step - accuracy: 0.8704 - loss: 0.3385\n",
      "Epoch 8/10\n",
      "\u001B[1m957/957\u001B[0m \u001B[32m━━━━━━━━━━━━━━━━━━━━\u001B[0m\u001B[37m\u001B[0m \u001B[1m258s\u001B[0m 269ms/step - accuracy: 0.8899 - loss: 0.3033\n",
      "Epoch 9/10\n",
      "\u001B[1m957/957\u001B[0m \u001B[32m━━━━━━━━━━━━━━━━━━━━\u001B[0m\u001B[37m\u001B[0m \u001B[1m278s\u001B[0m 291ms/step - accuracy: 0.8836 - loss: 0.3109\n",
      "Epoch 10/10\n",
      "\u001B[1m957/957\u001B[0m \u001B[32m━━━━━━━━━━━━━━━━━━━━\u001B[0m\u001B[37m\u001B[0m \u001B[1m294s\u001B[0m 307ms/step - accuracy: 0.9093 - loss: 0.2578\n",
      "\u001B[1m240/240\u001B[0m \u001B[32m━━━━━━━━━━━━━━━━━━━━\u001B[0m\u001B[37m\u001B[0m \u001B[1m16s\u001B[0m 67ms/step\n",
      "Accuracy: 0.8130\n",
      "F1 Score: 0.8132\n"
     ]
    }
   ],
   "execution_count": 12
  }
 ],
 "metadata": {
  "kernelspec": {
   "display_name": "Python 3",
   "language": "python",
   "name": "python3"
  },
  "language_info": {
   "codemirror_mode": {
    "name": "ipython",
    "version": 2
   },
   "file_extension": ".py",
   "mimetype": "text/x-python",
   "name": "python",
   "nbconvert_exporter": "python",
   "pygments_lexer": "ipython2",
   "version": "2.7.6"
  }
 },
 "nbformat": 4,
 "nbformat_minor": 5
}
