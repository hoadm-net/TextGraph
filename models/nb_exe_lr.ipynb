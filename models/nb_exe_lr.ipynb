{
 "cells": [
  {
   "cell_type": "code",
   "id": "initial_id",
   "metadata": {
    "collapsed": true,
    "ExecuteTime": {
     "end_time": "2025-03-25T16:59:55.713848Z",
     "start_time": "2025-03-25T16:59:55.612838Z"
    }
   },
   "source": [
    "from sklearn.metrics import accuracy_score\n",
    "from EDA.DataReader import DataReader\n",
    "from sklearn.feature_extraction.text import CountVectorizer\n",
    "from sklearn.linear_model import LogisticRegression\n",
    "import torch \n",
    "from torcheval.metrics.functional import multiclass_f1_score\n",
    "import warnings"
   ],
   "outputs": [],
   "execution_count": 6
  },
  {
   "metadata": {
    "ExecuteTime": {
     "end_time": "2025-03-25T16:59:55.794443Z",
     "start_time": "2025-03-25T16:59:55.726433Z"
    }
   },
   "cell_type": "code",
   "source": "warnings.filterwarnings(\"ignore\", category=UserWarning, module=\"sklearn\")",
   "id": "72915f2d589ce451",
   "outputs": [],
   "execution_count": 7
  },
  {
   "metadata": {
    "ExecuteTime": {
     "end_time": "2025-03-25T16:59:55.812793Z",
     "start_time": "2025-03-25T16:59:55.798438Z"
    }
   },
   "cell_type": "code",
   "source": [
    "def custom_tokenizer(text):\n",
    "    return text.split()"
   ],
   "id": "a9463f70b08877ba",
   "outputs": [],
   "execution_count": 8
  },
  {
   "metadata": {
    "ExecuteTime": {
     "end_time": "2025-03-25T16:59:57.176461Z",
     "start_time": "2025-03-25T16:59:55.819308Z"
    }
   },
   "cell_type": "code",
   "source": [
    "# pre-processing data\n",
    "dataset = DataReader(\"UIT_VFSC\") # UIT\n",
    "# dataset = DataReader(\"\") # dataset foody_raw\n",
    "df_train = dataset.df_train\n",
    "df_test = dataset.df_test\n",
    "df_total =dataset.df_total\n",
    "n_labels = int(df_total[\"label\"].max().item() + 1)"
   ],
   "id": "46b8a57e7414759f",
   "outputs": [],
   "execution_count": 9
  },
  {
   "metadata": {
    "ExecuteTime": {
     "end_time": "2025-03-25T16:59:58.511856Z",
     "start_time": "2025-03-25T16:59:57.184411Z"
    }
   },
   "cell_type": "code",
   "source": [
    "# execute sklearn LF\n",
    "clf = LogisticRegression()\n",
    "cv = CountVectorizer(tokenizer=custom_tokenizer, stop_words=[])\n",
    "X = cv.fit_transform(df_train[\"corpus\"])\n",
    "clf.fit(X, df_train[\"label\"])\n",
    "x_test = cv.transform(df_test[\"corpus\"])\n",
    "\n",
    "y_pred = clf.predict(x_test)\n",
    "accuracy = accuracy_score(df_test[\"label\"], y_pred)\n",
    "print(f\"accuracy: {accuracy:.4f}\")\n",
    "\n",
    "y_pred = torch.tensor(y_pred).type(torch.long)\n",
    "label = torch.tensor(df_test[\"label\"].tolist()).type(torch.long)\n",
    "mf1 = multiclass_f1_score(y_pred, label, num_classes=n_labels, average='macro')\n",
    "wf1 = multiclass_f1_score(y_pred, label, num_classes=n_labels, average='weighted')\n",
    "print(f\"F1-Score: {max(mf1, wf1):.4f}\")"
   ],
   "id": "e8b3ddd3e21bfc43",
   "outputs": [
    {
     "name": "stdout",
     "output_type": "stream",
     "text": [
      "accuracy: 0.8857\n",
      "F1-Score: 0.8775\n"
     ]
    }
   ],
   "execution_count": 10
  },
  {
   "metadata": {
    "ExecuteTime": {
     "end_time": "2025-03-25T16:59:58.521131Z",
     "start_time": "2025-03-25T16:59:58.515141Z"
    }
   },
   "cell_type": "code",
   "source": "",
   "id": "32797dbeffe77d7e",
   "outputs": [],
   "execution_count": 10
  }
 ],
 "metadata": {
  "kernelspec": {
   "display_name": "Python 3",
   "language": "python",
   "name": "python3"
  },
  "language_info": {
   "codemirror_mode": {
    "name": "ipython",
    "version": 2
   },
   "file_extension": ".py",
   "mimetype": "text/x-python",
   "name": "python",
   "nbconvert_exporter": "python",
   "pygments_lexer": "ipython2",
   "version": "2.7.6"
  }
 },
 "nbformat": 4,
 "nbformat_minor": 5
}
