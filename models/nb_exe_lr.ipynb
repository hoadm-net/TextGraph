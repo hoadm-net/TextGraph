{
 "cells": [
  {
   "cell_type": "code",
   "id": "initial_id",
   "metadata": {
    "collapsed": true,
    "ExecuteTime": {
     "end_time": "2025-03-23T16:28:41.175279Z",
     "start_time": "2025-03-23T16:28:41.170901Z"
    }
   },
   "source": [
    "from sklearn.metrics import accuracy_score, f1_score\n",
    "from EDA.DataReader import DataReader\n",
    "from sklearn.feature_extraction.text import CountVectorizer\n",
    "from sklearn.linear_model import LogisticRegression"
   ],
   "outputs": [],
   "execution_count": 17
  },
  {
   "metadata": {
    "ExecuteTime": {
     "end_time": "2025-03-23T16:28:41.429510Z",
     "start_time": "2025-03-23T16:28:41.186777Z"
    }
   },
   "cell_type": "code",
   "source": [
    "# pre-processing data\n",
    "dataset = DataReader(\"UIT_VFSC\") # UIT\n",
    "# dataset = DataReader(\"\") # dataset foody_raw\n",
    "df_train = dataset.df_train\n",
    "df_test = dataset.df_test\n"
   ],
   "id": "46b8a57e7414759f",
   "outputs": [],
   "execution_count": 18
  },
  {
   "metadata": {
    "ExecuteTime": {
     "end_time": "2025-03-23T16:28:42.393032Z",
     "start_time": "2025-03-23T16:28:41.429510Z"
    }
   },
   "cell_type": "code",
   "source": [
    "# execute sklearn LF\n",
    "clf = LogisticRegression()\n",
    "cv = CountVectorizer()\n",
    "X = cv.fit_transform(df_train[\"corpus\"])\n",
    "clf.fit(X, df_train[\"label\"])\n",
    "x_test = cv.transform(df_test[\"corpus\"])\n",
    "\n",
    "y_pred = clf.predict(x_test)\n",
    "accuracy = accuracy_score(df_test[\"label\"], y_pred)\n",
    "print(f\"accuracy: {accuracy:.4f}\")\n",
    "# use for multiclass (UIT)\n",
    "mf1 = f1_score(df_test[\"label\"], y_pred, average='macro')\n",
    "wf1 = f1_score(df_test[\"label\"], y_pred, average='weighted')\n",
    "\n",
    "print(f\"F1-Score: {max(mf1, wf1):.4f}\")\n",
    "\n",
    "# use for 2 class (foody)\n",
    "#f1 = f1_score(df_test[\"label\"], y_pred)\n",
    "#print(f\"F1 Score: {f1:.4f}\")"
   ],
   "id": "e8b3ddd3e21bfc43",
   "outputs": [
    {
     "name": "stdout",
     "output_type": "stream",
     "text": [
      "accuracy: 0.8831\n",
      "F1-Score: 0.8743\n"
     ]
    }
   ],
   "execution_count": 19
  }
 ],
 "metadata": {
  "kernelspec": {
   "display_name": "Python 3",
   "language": "python",
   "name": "python3"
  },
  "language_info": {
   "codemirror_mode": {
    "name": "ipython",
    "version": 2
   },
   "file_extension": ".py",
   "mimetype": "text/x-python",
   "name": "python",
   "nbconvert_exporter": "python",
   "pygments_lexer": "ipython2",
   "version": "2.7.6"
  }
 },
 "nbformat": 4,
 "nbformat_minor": 5
}
