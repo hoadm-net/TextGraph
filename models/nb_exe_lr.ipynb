{
 "cells": [
  {
   "cell_type": "code",
   "id": "initial_id",
   "metadata": {
    "collapsed": true,
    "ExecuteTime": {
     "end_time": "2025-03-14T19:00:53.837184Z",
     "start_time": "2025-03-14T19:00:53.823944Z"
    }
   },
   "source": [
    "from sklearn.metrics import accuracy_score, f1_score\n",
    "from EDA.DataReader import DataReader\n",
    "from sklearn.feature_extraction.text import CountVectorizer\n",
    "from sklearn.linear_model import LogisticRegression"
   ],
   "outputs": [],
   "execution_count": 4
  },
  {
   "metadata": {
    "ExecuteTime": {
     "end_time": "2025-03-14T19:01:07.051364Z",
     "start_time": "2025-03-14T19:00:53.839188Z"
    }
   },
   "cell_type": "code",
   "source": [
    "# pre-processing data\n",
    "dataset = DataReader(\"UIT_VFSC\")\n",
    "# dataset = DataReader(\"\") # dataset foody_raw\n",
    "df_train = dataset.df_train\n",
    "df_test = dataset.df_test\n"
   ],
   "id": "46b8a57e7414759f",
   "outputs": [],
   "execution_count": 5
  },
  {
   "metadata": {
    "ExecuteTime": {
     "end_time": "2025-03-14T19:01:07.592775Z",
     "start_time": "2025-03-14T19:01:07.051364Z"
    }
   },
   "cell_type": "code",
   "source": [
    "# execute sklearn LF\n",
    "clf = LogisticRegression()\n",
    "cv = CountVectorizer()\n",
    "X = cv.fit_transform(df_train[\"corpus\"])\n",
    "clf.fit(X, df_train[\"label\"])\n",
    "x_test = cv.transform(df_test[\"corpus\"])\n",
    "y_pred = clf.predict(x_test)\n",
    "accuracy = accuracy_score(df_test[\"label\"], y_pred)\n",
    "print(f'accuracy: {accuracy:.2f}')\n",
    "mf1 = f1_score(df_test[\"label\"], y_pred, average='macro')\n",
    "wf1 = f1_score(df_test[\"label\"], y_pred, average='weighted')\n",
    "print(f\"F1-Score: {max(mf1, wf1):.2f}\")"
   ],
   "id": "e8b3ddd3e21bfc43",
   "outputs": [
    {
     "name": "stdout",
     "output_type": "stream",
     "text": [
      "accuracy: 0.88\n",
      "F1-Score: 0.87\n"
     ]
    }
   ],
   "execution_count": 6
  }
 ],
 "metadata": {
  "kernelspec": {
   "display_name": "Python 3",
   "language": "python",
   "name": "python3"
  },
  "language_info": {
   "codemirror_mode": {
    "name": "ipython",
    "version": 2
   },
   "file_extension": ".py",
   "mimetype": "text/x-python",
   "name": "python",
   "nbconvert_exporter": "python",
   "pygments_lexer": "ipython2",
   "version": "2.7.6"
  }
 },
 "nbformat": 4,
 "nbformat_minor": 5
}
