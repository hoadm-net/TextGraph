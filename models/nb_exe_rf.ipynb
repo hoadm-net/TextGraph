{
 "cells": [
  {
   "cell_type": "code",
   "id": "initial_id",
   "metadata": {
    "collapsed": true,
    "ExecuteTime": {
     "end_time": "2025-03-14T19:00:19.485788Z",
     "start_time": "2025-03-14T19:00:12.571772Z"
    }
   },
   "source": [
    "from EDA.DataReader import DataReader\n",
    "from sklearn.feature_extraction.text import CountVectorizer\n",
    "from sklearn.metrics import accuracy_score, f1_score\n",
    "from sklearn.ensemble import RandomForestClassifier"
   ],
   "outputs": [],
   "execution_count": 1
  },
  {
   "metadata": {
    "ExecuteTime": {
     "end_time": "2025-03-14T19:00:36.442535Z",
     "start_time": "2025-03-14T19:00:19.485788Z"
    }
   },
   "cell_type": "code",
   "source": [
    "# pre processing data\n",
    "dataset = DataReader(\"UIT_VFSC\")\n",
    "# dataset = DataReader(\"\") # dataset foody_raw\n",
    "df_train = dataset.df_train\n",
    "df_test = dataset.df_test\n",
    "cv = CountVectorizer()\n",
    "X = cv.fit_transform(df_train[\"corpus\"])\n",
    "x_test = cv.transform(df_test[\"corpus\"])"
   ],
   "id": "f84138225399cf53",
   "outputs": [],
   "execution_count": 2
  },
  {
   "metadata": {
    "ExecuteTime": {
     "end_time": "2025-03-14T19:00:49.781444Z",
     "start_time": "2025-03-14T19:00:36.442535Z"
    }
   },
   "cell_type": "code",
   "source": [
    "# Combine with sklearn random forest\n",
    "mod = RandomForestClassifier(n_estimators=100, random_state=42, max_depth=None, criterion='gini', max_features='sqrt')\n",
    "mod.fit(X, df_train[\"label\"])\n",
    "y_pred2 = mod.predict(x_test)\n",
    "accur = accuracy_score(df_test[\"label\"], y_pred2)\n",
    "print(f'accuracy: {accur:.2f}')\n",
    "wf = f1_score(df_test[\"label\"], y_pred2, average='weighted')\n",
    "mf = f1_score(df_test[\"label\"], y_pred2, average='micro')\n",
    "print(f\"F1-Score: {max(mf, wf):.2f}\")"
   ],
   "id": "f94652d2bfd98f92",
   "outputs": [
    {
     "name": "stdout",
     "output_type": "stream",
     "text": [
      "accuracy: 0.88\n",
      "F1-Score: 0.88\n"
     ]
    }
   ],
   "execution_count": 3
  }
 ],
 "metadata": {
  "kernelspec": {
   "display_name": "Python 3",
   "language": "python",
   "name": "python3"
  },
  "language_info": {
   "codemirror_mode": {
    "name": "ipython",
    "version": 2
   },
   "file_extension": ".py",
   "mimetype": "text/x-python",
   "name": "python",
   "nbconvert_exporter": "python",
   "pygments_lexer": "ipython2",
   "version": "2.7.6"
  }
 },
 "nbformat": 4,
 "nbformat_minor": 5
}
