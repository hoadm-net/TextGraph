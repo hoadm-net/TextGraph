{
 "cells": [
  {
   "cell_type": "code",
   "id": "initial_id",
   "metadata": {
    "collapsed": true,
    "ExecuteTime": {
     "end_time": "2025-03-25T17:01:05.160282Z",
     "start_time": "2025-03-25T17:01:04.590327Z"
    }
   },
   "source": [
    "from EDA.DataReader import DataReader\n",
    "from sklearn.feature_extraction.text import CountVectorizer\n",
    "from sklearn.metrics import accuracy_score, f1_score\n",
    "from sklearn.ensemble import RandomForestClassifier\n",
    "import torch \n",
    "from torcheval.metrics.functional import multiclass_f1_score\n",
    "import warnings"
   ],
   "outputs": [],
   "execution_count": 6
  },
  {
   "metadata": {
    "ExecuteTime": {
     "end_time": "2025-03-25T17:01:05.299215Z",
     "start_time": "2025-03-25T17:01:05.177504Z"
    }
   },
   "cell_type": "code",
   "source": "warnings.filterwarnings(\"ignore\", category=UserWarning, module=\"sklearn\")",
   "id": "11c455bcaab7ebac",
   "outputs": [],
   "execution_count": 7
  },
  {
   "metadata": {
    "ExecuteTime": {
     "end_time": "2025-03-25T17:01:05.454461Z",
     "start_time": "2025-03-25T17:01:05.304120Z"
    }
   },
   "cell_type": "code",
   "source": [
    "def custom_tokenizer(text):\n",
    "    return text.split()"
   ],
   "id": "2eb36e3cf022072",
   "outputs": [],
   "execution_count": 8
  },
  {
   "metadata": {
    "ExecuteTime": {
     "end_time": "2025-03-25T17:01:07.325110Z",
     "start_time": "2025-03-25T17:01:05.463006Z"
    }
   },
   "cell_type": "code",
   "source": [
    "# pre processing data\n",
    "dataset = DataReader(\"UIT_VFSC\") # UIT\n",
    "# dataset = DataReader(\"\") # dataset foody_raw\n",
    "df_train = dataset.df_train\n",
    "df_test = dataset.df_test\n",
    "df_total =dataset.df_total\n",
    "n_labels = int(df_total[\"label\"].max().item() + 1)"
   ],
   "id": "f84138225399cf53",
   "outputs": [],
   "execution_count": 9
  },
  {
   "metadata": {
    "ExecuteTime": {
     "end_time": "2025-03-25T17:01:07.957753Z",
     "start_time": "2025-03-25T17:01:07.329116Z"
    }
   },
   "cell_type": "code",
   "source": [
    "cv = CountVectorizer(tokenizer=custom_tokenizer, stop_words=[])\n",
    "X = cv.fit_transform(df_train[\"corpus\"])\n",
    "x_test = cv.transform(df_test[\"corpus\"])"
   ],
   "id": "5edaf1cef8d6839d",
   "outputs": [],
   "execution_count": 10
  },
  {
   "metadata": {
    "ExecuteTime": {
     "end_time": "2025-03-25T17:02:08.744940Z",
     "start_time": "2025-03-25T17:01:07.959764Z"
    }
   },
   "cell_type": "code",
   "source": [
    "# Combine with sklearn random forest\n",
    "mod = RandomForestClassifier(n_estimators=100, random_state=42, max_depth=None, criterion='gini', max_features='sqrt')\n",
    "mod.fit(X, df_train[\"label\"])\n",
    "y_pred = mod.predict(x_test)\n",
    "accur = accuracy_score(df_test[\"label\"], y_pred)\n",
    "print(f\"Accuracy: {accur:.4f}\")\n",
    "\n",
    "y_pred = torch.tensor(y_pred).type(torch.long)\n",
    "label = torch.tensor(df_test[\"label\"].tolist()).type(torch.long)\n",
    "mf1 = multiclass_f1_score(y_pred, label, num_classes=n_labels, average='macro')\n",
    "wf1 = multiclass_f1_score(y_pred, label, num_classes=n_labels, average='weighted')\n",
    "print(f\"F1-Score: {max(mf1, wf1):.4f}\")\n"
   ],
   "id": "f94652d2bfd98f92",
   "outputs": [
    {
     "name": "stdout",
     "output_type": "stream",
     "text": [
      "Accuracy: 0.8781\n",
      "F1-Score: 0.8691\n"
     ]
    }
   ],
   "execution_count": 11
  },
  {
   "metadata": {
    "ExecuteTime": {
     "end_time": "2025-03-25T17:02:08.770107Z",
     "start_time": "2025-03-25T17:02:08.758058Z"
    }
   },
   "cell_type": "code",
   "source": "",
   "id": "41b47871df3b7ace",
   "outputs": [],
   "execution_count": 11
  }
 ],
 "metadata": {
  "kernelspec": {
   "display_name": "Python 3",
   "language": "python",
   "name": "python3"
  },
  "language_info": {
   "codemirror_mode": {
    "name": "ipython",
    "version": 2
   },
   "file_extension": ".py",
   "mimetype": "text/x-python",
   "name": "python",
   "nbconvert_exporter": "python",
   "pygments_lexer": "ipython2",
   "version": "2.7.6"
  }
 },
 "nbformat": 4,
 "nbformat_minor": 5
}
