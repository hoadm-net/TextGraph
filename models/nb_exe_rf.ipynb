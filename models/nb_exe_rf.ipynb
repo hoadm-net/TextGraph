{
 "cells": [
  {
   "cell_type": "code",
   "id": "initial_id",
   "metadata": {
    "collapsed": true,
    "ExecuteTime": {
     "end_time": "2025-03-23T17:42:04.647590Z",
     "start_time": "2025-03-23T17:42:04.639182Z"
    }
   },
   "source": [
    "from EDA.DataReader import DataReader\n",
    "from sklearn.feature_extraction.text import CountVectorizer\n",
    "from sklearn.metrics import accuracy_score, f1_score\n",
    "from sklearn.ensemble import RandomForestClassifier"
   ],
   "outputs": [],
   "execution_count": 6
  },
  {
   "metadata": {
    "ExecuteTime": {
     "end_time": "2025-03-23T17:42:10.679721Z",
     "start_time": "2025-03-23T17:42:04.707047Z"
    }
   },
   "cell_type": "code",
   "source": [
    "# pre processing data\n",
    "dataset = DataReader(\"UIT_VFSC\") # UIT\n",
    "# dataset = DataReader(\"\") # dataset foody_raw\n",
    "df_train = dataset.df_train\n",
    "df_test = dataset.df_test\n",
    "cv = CountVectorizer()\n",
    "X = cv.fit_transform(df_train[\"corpus\"])\n",
    "x_test = cv.transform(df_test[\"corpus\"])"
   ],
   "id": "f84138225399cf53",
   "outputs": [],
   "execution_count": 7
  },
  {
   "metadata": {
    "ExecuteTime": {
     "end_time": "2025-03-23T17:46:57.350502Z",
     "start_time": "2025-03-23T17:46:16.747154Z"
    }
   },
   "cell_type": "code",
   "source": [
    "# Combine with sklearn random forest\n",
    "mod = RandomForestClassifier(n_estimators=100, random_state=42, max_depth=None, criterion='gini', max_features='sqrt')\n",
    "mod.fit(X, df_train[\"label\"])\n",
    "y_pred2 = mod.predict(x_test)\n",
    "accur = accuracy_score(df_test[\"label\"], y_pred2)\n",
    "print(f\"Accuracy: {accur:.4f}\")\n",
    "\n",
    "# use for multiclass (UIT)\n",
    "mf1 = f1_score(df_test[\"label\"], y_pred2, average='macro')\n",
    "wf1 = f1_score(df_test[\"label\"], y_pred2, average='weighted')\n",
    "\n",
    "print(f\"F1-Score: {max(mf1, wf1):.4f}\")\n",
    "\n",
    "# use for 2 class (foody)\n",
    "# f1 = f1_score(df_test[\"label\"], y_pred2)\n",
    "# print(f\"F1 Score: {f1:.4f}\")"
   ],
   "id": "f94652d2bfd98f92",
   "outputs": [
    {
     "name": "stdout",
     "output_type": "stream",
     "text": [
      "Accuracy: 0.8806\n",
      "F1-Score: 0.8708\n"
     ]
    }
   ],
   "execution_count": 9
  },
  {
   "metadata": {},
   "cell_type": "code",
   "outputs": [],
   "execution_count": null,
   "source": "",
   "id": "41b47871df3b7ace"
  }
 ],
 "metadata": {
  "kernelspec": {
   "display_name": "Python 3",
   "language": "python",
   "name": "python3"
  },
  "language_info": {
   "codemirror_mode": {
    "name": "ipython",
    "version": 2
   },
   "file_extension": ".py",
   "mimetype": "text/x-python",
   "name": "python",
   "nbconvert_exporter": "python",
   "pygments_lexer": "ipython2",
   "version": "2.7.6"
  }
 },
 "nbformat": 4,
 "nbformat_minor": 5
}
