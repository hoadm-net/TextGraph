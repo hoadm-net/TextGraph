{
 "cells": [
  {
   "cell_type": "code",
   "id": "initial_id",
   "metadata": {
    "collapsed": true,
    "ExecuteTime": {
     "end_time": "2025-03-25T17:06:31.956251Z",
     "start_time": "2025-03-25T17:05:01.001363Z"
    }
   },
   "source": [
    "from sklearn.metrics import accuracy_score, f1_score\n",
    "from EDA.DataReader import DataReader\n",
    "from sklearn.feature_extraction.text import TfidfVectorizer\n",
    "from sklearn.svm import SVC\n",
    "import torch \n",
    "from torcheval.metrics.functional import multiclass_f1_score\n",
    "import warnings"
   ],
   "outputs": [],
   "execution_count": 1
  },
  {
   "metadata": {
    "ExecuteTime": {
     "end_time": "2025-03-25T17:06:31.990305Z",
     "start_time": "2025-03-25T17:06:31.976336Z"
    }
   },
   "cell_type": "code",
   "source": "warnings.filterwarnings(\"ignore\", category=UserWarning, module=\"sklearn\")",
   "id": "935186dd1332b51d",
   "outputs": [],
   "execution_count": 2
  },
  {
   "metadata": {
    "ExecuteTime": {
     "end_time": "2025-03-25T17:06:32.018155Z",
     "start_time": "2025-03-25T17:06:31.995306Z"
    }
   },
   "cell_type": "code",
   "source": [
    "def custom_tokenizer(text):\n",
    "    return text.split()"
   ],
   "id": "43f84cc27da17c23",
   "outputs": [],
   "execution_count": 3
  },
  {
   "metadata": {
    "ExecuteTime": {
     "end_time": "2025-03-25T17:06:33.859025Z",
     "start_time": "2025-03-25T17:06:32.021157Z"
    }
   },
   "cell_type": "code",
   "source": [
    "# pre-processing data\n",
    "dataset = DataReader(\"UIT_VFSC\") # UIT\n",
    "# dataset = DataReader(\"\") # dataset foody_raw\n",
    "df_train = dataset.df_train\n",
    "df_test = dataset.df_test\n",
    "df_total =dataset.df_total\n",
    "n_labels = int(df_total[\"label\"].max().item() + 1)"
   ],
   "id": "3fe0d56bbd10b98",
   "outputs": [],
   "execution_count": 4
  },
  {
   "metadata": {
    "ExecuteTime": {
     "end_time": "2025-03-25T17:07:15.176345Z",
     "start_time": "2025-03-25T17:06:33.865173Z"
    }
   },
   "cell_type": "code",
   "source": [
    "# Combine with sklearn svc\n",
    "tf_idf = TfidfVectorizer(tokenizer=custom_tokenizer, stop_words=[])\n",
    "data_train = tf_idf.fit_transform(df_train[\"corpus\"])\n",
    "svc = SVC(kernel='linear', C=1.0, gamma=0.1)\n",
    "svc.fit(data_train, df_train[\"label\"])\n",
    "data_test = tf_idf.transform(df_test[\"corpus\"])\n",
    "y_pred = svc.predict(data_test)\n",
    "accuracy_svc = accuracy_score(df_test[\"label\"], y_pred)\n",
    "print(f\"Accuracy: {accuracy_svc:.4f}\")\n",
    "\n",
    "y_pred = torch.tensor(y_pred).type(torch.long)\n",
    "label = torch.tensor(df_test[\"label\"].tolist()).type(torch.long)\n",
    "mf1 = multiclass_f1_score(y_pred, label, num_classes=n_labels, average='macro')\n",
    "wf1 = multiclass_f1_score(y_pred, label, num_classes=n_labels, average='weighted')\n",
    "print(f\"F1-Score: {max(mf1, wf1):.4f}\")"
   ],
   "id": "7d576344218ee64c",
   "outputs": [
    {
     "name": "stdout",
     "output_type": "stream",
     "text": [
      "Accuracy: 0.8866\n",
      "F1-Score: 0.8697\n"
     ]
    }
   ],
   "execution_count": 5
  }
 ],
 "metadata": {
  "kernelspec": {
   "display_name": "Python 3",
   "language": "python",
   "name": "python3"
  },
  "language_info": {
   "codemirror_mode": {
    "name": "ipython",
    "version": 2
   },
   "file_extension": ".py",
   "mimetype": "text/x-python",
   "name": "python",
   "nbconvert_exporter": "python",
   "pygments_lexer": "ipython2",
   "version": "2.7.6"
  }
 },
 "nbformat": 4,
 "nbformat_minor": 5
}
