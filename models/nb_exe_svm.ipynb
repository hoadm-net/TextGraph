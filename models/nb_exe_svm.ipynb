{
 "cells": [
  {
   "cell_type": "code",
   "id": "initial_id",
   "metadata": {
    "collapsed": true,
    "ExecuteTime": {
     "end_time": "2025-03-23T18:20:12.234203Z",
     "start_time": "2025-03-23T18:20:12.204590Z"
    }
   },
   "source": [
    "from sklearn.metrics import accuracy_score, f1_score\n",
    "from EDA.DataReader import DataReader\n",
    "from sklearn.feature_extraction.text import TfidfVectorizer\n",
    "from sklearn.svm import SVC"
   ],
   "outputs": [],
   "execution_count": 4
  },
  {
   "metadata": {
    "ExecuteTime": {
     "end_time": "2025-03-23T18:20:13.878838Z",
     "start_time": "2025-03-23T18:20:12.252978Z"
    }
   },
   "cell_type": "code",
   "source": [
    "# pre-processing data\n",
    "dataset = DataReader(\"UIT_VFSC\") # UIT\n",
    "# dataset = DataReader(\"\") # dataset foody_raw\n",
    "df_train = dataset.df_train\n",
    "df_test = dataset.df_test"
   ],
   "id": "3fe0d56bbd10b98",
   "outputs": [],
   "execution_count": 5
  },
  {
   "metadata": {
    "ExecuteTime": {
     "end_time": "2025-03-23T18:20:33.333317Z",
     "start_time": "2025-03-23T18:20:13.878838Z"
    }
   },
   "cell_type": "code",
   "source": [
    "# Combine with sklearn svc\n",
    "tf_idf = TfidfVectorizer()\n",
    "data_train = tf_idf.fit_transform(df_train[\"corpus\"])\n",
    "svc = SVC(kernel='linear', C=1.0, gamma=0.1)\n",
    "svc.fit(data_train, df_train[\"label\"])\n",
    "data_test = tf_idf.transform(df_test[\"corpus\"])\n",
    "y_pred = svc.predict(data_test)\n",
    "accuracy_svc = accuracy_score(df_test[\"label\"], y_pred)\n",
    "print(f\"Accuracy: {accuracy_svc:.4f}\")\n",
    "\n",
    "# use for multiclass (UIT)\n",
    "mf1 = f1_score(df_test[\"label\"], y_pred, average='macro')\n",
    "wf1 = f1_score(df_test[\"label\"], y_pred, average='weighted')\n",
    "\n",
    "print(f\"F1-Score: {max(mf1, wf1):.4f}\")\n",
    "\n",
    "# use for 2 class (foody)\n",
    "# f1 = f1_score(df_test[\"label\"], y_pred)\n",
    "# print(f\"F1 Score: {f1:.4f}\")"
   ],
   "id": "7d576344218ee64c",
   "outputs": [
    {
     "name": "stdout",
     "output_type": "stream",
     "text": [
      "Accuracy: 0.8869\n",
      "F1-Score: 0.8699\n"
     ]
    }
   ],
   "execution_count": 6
  }
 ],
 "metadata": {
  "kernelspec": {
   "display_name": "Python 3",
   "language": "python",
   "name": "python3"
  },
  "language_info": {
   "codemirror_mode": {
    "name": "ipython",
    "version": 2
   },
   "file_extension": ".py",
   "mimetype": "text/x-python",
   "name": "python",
   "nbconvert_exporter": "python",
   "pygments_lexer": "ipython2",
   "version": "2.7.6"
  }
 },
 "nbformat": 4,
 "nbformat_minor": 5
}
