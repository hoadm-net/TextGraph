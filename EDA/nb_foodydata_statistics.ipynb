{
 "cells": [
  {
   "cell_type": "code",
   "id": "initial_id",
   "metadata": {
    "collapsed": true,
    "ExecuteTime": {
     "end_time": "2025-03-14T18:37:52.162272Z",
     "start_time": "2025-03-14T18:37:52.156264Z"
    }
   },
   "source": [
    "import pandas as pd\n",
    "from EDA.DataReader import DataReader\n",
    "from matplotlib import pyplot as plt"
   ],
   "outputs": [],
   "execution_count": 3
  },
  {
   "metadata": {
    "ExecuteTime": {
     "end_time": "2025-03-14T18:40:58.832468Z",
     "start_time": "2025-03-14T18:37:52.168288Z"
    }
   },
   "cell_type": "code",
   "source": [
    "# Read file\n",
    "dataReader = DataReader(\"\")"
   ],
   "id": "b6aa5b482e362f7f",
   "outputs": [],
   "execution_count": 4
  },
  {
   "metadata": {
    "ExecuteTime": {
     "end_time": "2025-03-14T18:40:58.842892Z",
     "start_time": "2025-03-14T18:40:58.833484Z"
    }
   },
   "cell_type": "code",
   "source": [
    "df_train = dataReader.df_train\n",
    "df_test = dataReader.df_test\n",
    "df_total = dataReader.df_total"
   ],
   "id": "99b7a6e9b15cd5b5",
   "outputs": [],
   "execution_count": 5
  },
  {
   "metadata": {
    "ExecuteTime": {
     "end_time": "2025-03-14T18:40:58.856621Z",
     "start_time": "2025-03-14T18:40:58.842892Z"
    }
   },
   "cell_type": "code",
   "source": [
    "# length of data\n",
    "len_train = len(df_train)\n",
    "len_test = len(df_test)\n",
    "len_total = len(df_total)\n",
    "print(len_total)\n",
    "# % of each data\n",
    "print(f'% data train: {round(len_train / len_total * 100, 2)}')\n",
    "print(f'% data test: {round(len_test / len_total * 100, 2)}')"
   ],
   "id": "fd3055d5b8afc72b",
   "outputs": [
    {
     "name": "stdout",
     "output_type": "stream",
     "text": [
      "38278\n",
      "% data train: 80.0\n",
      "% data test: 20.0\n"
     ]
    }
   ],
   "execution_count": 6
  },
  {
   "metadata": {
    "ExecuteTime": {
     "end_time": "2025-03-14T18:40:59.160856Z",
     "start_time": "2025-03-14T18:40:58.859226Z"
    }
   },
   "cell_type": "code",
   "source": [
    "# Min, Max and average number of words in sentence\n",
    "num_of_word = 0\n",
    "min_now = 1000000\n",
    "max_now = 0\n",
    "for sentence in df_total[\"corpus\"]:\n",
    "    words = len(sentence.split())\n",
    "    num_of_word += words\n",
    "    max_now = max(max_now, words)\n",
    "    min_now = min(min_now, words)\n",
    "print(f'max word in sentence: {max_now}')\n",
    "print(f'min word in sentence: {min_now}')\n",
    "print(f'average number of word in sentence: {round(num_of_word / len_total)}')"
   ],
   "id": "9c19fe77604c334",
   "outputs": [
    {
     "name": "stdout",
     "output_type": "stream",
     "text": [
      "max word in sentence: 1336\n",
      "min word in sentence: 4\n",
      "average number of word in sentence: 80\n"
     ]
    }
   ],
   "execution_count": 7
  },
  {
   "metadata": {
    "ExecuteTime": {
     "end_time": "2025-03-14T18:40:59.168023Z",
     "start_time": "2025-03-14T18:40:59.160856Z"
    }
   },
   "cell_type": "code",
   "source": [
    "def find_vocab(corpus: list)-> list:\n",
    "    voc = set()\n",
    "    for sent in corpus:\n",
    "        for w in sent.split():\n",
    "            if not w.isdigit():\n",
    "                voc.add(w)\n",
    "    return list(voc)"
   ],
   "id": "a3b43b39d04e96f5",
   "outputs": [],
   "execution_count": 8
  },
  {
   "metadata": {
    "ExecuteTime": {
     "end_time": "2025-03-14T18:41:00.457260Z",
     "start_time": "2025-03-14T18:40:59.170029Z"
    }
   },
   "cell_type": "code",
   "source": [
    "# number of vocabulary\n",
    "vocab_total = find_vocab(df_total[\"corpus\"])\n",
    "vocab_train = find_vocab(df_train[\"corpus\"])\n",
    "vocab_test = find_vocab(df_test[\"corpus\"])\n",
    "print(f'vocab total size: {len(vocab_total)}')\n",
    "print(f'vocab train size: {len(vocab_train)}')\n",
    "print(f'vocab test size: {len(vocab_test)}')"
   ],
   "id": "8719960bc096ef6e",
   "outputs": [
    {
     "name": "stdout",
     "output_type": "stream",
     "text": [
      "vocab total size: 106741\n",
      "vocab train size: 91127\n",
      "vocab test size: 35203\n"
     ]
    }
   ],
   "execution_count": 9
  },
  {
   "metadata": {
    "ExecuteTime": {
     "end_time": "2025-03-14T18:41:00.503643Z",
     "start_time": "2025-03-14T18:41:00.457260Z"
    }
   },
   "cell_type": "code",
   "source": [
    "# count label in each dataset\n",
    "label_series = pd.Series({\n",
    "    0: \"negative\",\n",
    "    1: \"positive\"\n",
    "})\n",
    "count_label_train = df_train[\"label\"].value_counts()\n",
    "count_label_total = df_total[\"label\"].value_counts()\n",
    "count_label_test = df_test[\"label\"].value_counts()\n",
    "df_label_train = pd.concat([label_series, count_label_train], axis=1, keys=[\"label\", \"count\"])\n",
    "df_label_total = pd.concat([label_series, count_label_total], axis=1, keys=[\"label\", \"count\"])\n",
    "df_label_test = pd.concat([label_series, count_label_test], axis=1, keys=[\"label\", \"count\"])\n",
    "print(f'dataframe of train dataset:')\n",
    "print(df_label_train)\n",
    "print(f'dataframe of dev dataset:')\n",
    "print(df_label_test)\n",
    "print(f'dataframe of total dataset:')\n",
    "print(df_label_total)"
   ],
   "id": "a9aca01dd5177c18",
   "outputs": [
    {
     "name": "stdout",
     "output_type": "stream",
     "text": [
      "dataframe of train dataset:\n",
      "      label  count\n",
      "0  negative  15246\n",
      "1  positive  15376\n",
      "dataframe of dev dataset:\n",
      "      label  count\n",
      "0  negative   3866\n",
      "1  positive   3790\n",
      "dataframe of total dataset:\n",
      "      label  count\n",
      "0  negative  19112\n",
      "1  positive  19166\n"
     ]
    }
   ],
   "execution_count": 10
  },
  {
   "metadata": {
    "ExecuteTime": {
     "end_time": "2025-03-14T18:41:00.991552Z",
     "start_time": "2025-03-14T18:41:00.503643Z"
    }
   },
   "cell_type": "code",
   "source": [
    "# plot value in stacked bar chart\n",
    "plt.bar(df_label_train[\"label\"], df_label_train[\"count\"], color=\"red\")\n",
    "plt.bar(df_label_test[\"label\"], df_label_test[\"count\"], bottom=df_label_train[\"count\"], color=\"green\")\n",
    "plt.xlabel(\"Label\")\n",
    "plt.ylabel(\"Quantity\")\n",
    "plt.legend([\"Train\", \"Test\"])\n",
    "plt.title(\"Quantity of each label in train dev test dataset\")\n",
    "plt.show()"
   ],
   "id": "aab489b256452c73",
   "outputs": [
    {
     "data": {
      "text/plain": [
       "<Figure size 640x480 with 1 Axes>"
      ],
      "image/png": "[encoded data removed]"
     },
     "metadata": {},
     "output_type": "display_data"
    }
   ],
   "execution_count": 11
  },
  {
   "metadata": {
    "ExecuteTime": {
     "end_time": "2025-03-14T18:41:00.995946Z",
     "start_time": "2025-03-14T18:41:00.991552Z"
    }
   },
   "cell_type": "code",
   "source": "",
   "id": "d0127952c7e00517",
   "outputs": [],
   "execution_count": 11
  }
 ],
 "metadata": {
  "kernelspec": {
   "display_name": "Python 3",
   "language": "python",
   "name": "python3"
  },
  "language_info": {
   "codemirror_mode": {
    "name": "ipython",
    "version": 2
   },
   "file_extension": ".py",
   "mimetype": "text/x-python",
   "name": "python",
   "nbconvert_exporter": "python",
   "pygments_lexer": "ipython2",
   "version": "2.7.6"
  }
 },
 "nbformat": 4,
 "nbformat_minor": 5
}
