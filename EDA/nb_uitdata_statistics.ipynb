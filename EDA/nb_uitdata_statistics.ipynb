{
 "cells": [
  {
   "cell_type": "code",
   "id": "initial_id",
   "metadata": {
    "collapsed": true,
    "ExecuteTime": {
     "end_time": "2025-02-16T13:26:25.167122Z",
     "start_time": "2025-02-16T13:26:19.157881Z"
    }
   },
   "source": [
    "import matplotlib\n",
    "import matplotlib.pyplot as plt\n",
    "import pandas as pd\n",
    "import DataReader\n",
    "matplotlib.use('TkAgg')  # For non-interactive plotting"
   ],
   "outputs": [],
   "execution_count": 1
  },
  {
   "metadata": {
    "ExecuteTime": {
     "end_time": "2025-02-16T13:26:58.164746Z",
     "start_time": "2025-02-16T13:26:25.169128Z"
    }
   },
   "cell_type": "code",
   "source": [
    "# UIT_VFSC\n",
    "data_reader = DataReader.DataReader(\"UIT_VFSC\")\n",
    "# Read data\n",
    "df_train = data_reader.df_train\n",
    "df_test = data_reader.df_test\n",
    "df_dev = data_reader.df_dev\n",
    "df_total = data_reader.df_total"
   ],
   "id": "27b8613a4901e430",
   "outputs": [],
   "execution_count": 2
  },
  {
   "metadata": {
    "ExecuteTime": {
     "end_time": "2025-02-16T13:27:50.816252Z",
     "start_time": "2025-02-16T13:27:50.804356Z"
    }
   },
   "cell_type": "code",
   "source": [
    "# length of data\n",
    "len_train = len(df_train)\n",
    "len_test = len(df_test)\n",
    "len_dev = len(df_dev)\n",
    "len_total = len(df_total)\n",
    "print(len_total)"
   ],
   "id": "abc93629ce4c06e4",
   "outputs": [
    {
     "name": "stdout",
     "output_type": "stream",
     "text": [
      "16175\n"
     ]
    }
   ],
   "execution_count": 4
  },
  {
   "metadata": {
    "ExecuteTime": {
     "end_time": "2025-01-27T08:07:14.114938Z",
     "start_time": "2025-01-27T08:07:14.103902Z"
    }
   },
   "cell_type": "code",
   "source": [
    "# % of each data\n",
    "print(f'% data train: {round(len_train / len_total * 100, 2)}')\n",
    "print(f'% data test: {round(len_test / len_total * 100, 2)}')\n",
    "print(f'% data dev: {round(len_dev / len_total * 100, 2)}')"
   ],
   "id": "699a7a1c5034b0ab",
   "outputs": [
    {
     "name": "stdout",
     "output_type": "stream",
     "text": [
      "% data train: 70.64\n",
      "% data test: 19.57\n",
      "% data dev: 9.79\n"
     ]
    }
   ],
   "execution_count": 16
  },
  {
   "metadata": {
    "ExecuteTime": {
     "end_time": "2025-01-27T08:07:14.200050Z",
     "start_time": "2025-01-27T08:07:14.167046Z"
    }
   },
   "cell_type": "code",
   "source": [
    "# Min, Max and average number of words in sentence\n",
    "num_of_word = 0\n",
    "min_now = 1000000\n",
    "max_now = 0\n",
    "for sentence in df_total[\"corpus\"]:\n",
    "    words = len(sentence.split())\n",
    "    num_of_word += words\n",
    "    max_now = max(max_now, words)\n",
    "    min_now = min(min_now, words)\n",
    "print(f'max word in sentence: {max_now}')\n",
    "print(f'min word in sentence: {min_now}')\n",
    "print(f'average number of word in sentence: {round(num_of_word / len_total)}')"
   ],
   "id": "18af92ca5ba94c0c",
   "outputs": [
    {
     "name": "stdout",
     "output_type": "stream",
     "text": [
      "max word in sentence: 123\n",
      "min word in sentence: 1\n",
      "average number of word in sentence: 9\n"
     ]
    }
   ],
   "execution_count": 18
  },
  {
   "metadata": {
    "ExecuteTime": {
     "end_time": "2025-01-27T08:08:22.886143Z",
     "start_time": "2025-01-27T08:08:22.880140Z"
    }
   },
   "cell_type": "code",
   "source": [
    "def find_vocab(corpus: list)-> list:\n",
    "    voc = set()\n",
    "    for sent in corpus:\n",
    "        for w in sent.split():\n",
    "            if not w.isdigit():\n",
    "                voc.add(w)\n",
    "    return list(voc)"
   ],
   "id": "7b11d0ca489e42d2",
   "outputs": [],
   "execution_count": 22
  },
  {
   "metadata": {
    "ExecuteTime": {
     "end_time": "2025-01-27T08:08:43.527396Z",
     "start_time": "2025-01-27T08:08:43.461526Z"
    }
   },
   "cell_type": "code",
   "source": [
    "# number of vocabulary\n",
    "vocab_total = find_vocab(df_total[\"corpus\"])\n",
    "vocab_train = find_vocab(df_train[\"corpus\"])\n",
    "vocab_dev = find_vocab(df_dev[\"corpus\"])\n",
    "vocab_test = find_vocab(df_test[\"corpus\"])\n",
    "print(f'vocab total size: {len(vocab_total)}')\n",
    "print(f'vocab train size: {len(vocab_train)}')\n",
    "print(f'vocab dev size: {len(vocab_dev)}')\n",
    "print(f'vocab test size: {len(vocab_test)}')"
   ],
   "id": "d3dcb4122dff2308",
   "outputs": [
    {
     "name": "stdout",
     "output_type": "stream",
     "text": [
      "vocab total size: 4760\n",
      "vocab train size: 4023\n",
      "vocab dev size: 1469\n",
      "vocab test size: 2160\n"
     ]
    }
   ],
   "execution_count": 24
  },
  {
   "metadata": {
    "ExecuteTime": {
     "end_time": "2025-01-27T08:07:14.332350Z",
     "start_time": "2025-01-27T08:07:14.289218Z"
    }
   },
   "cell_type": "code",
   "source": [
    "# count label in each dataset\n",
    "label_series = pd.Series({\n",
    "    0: \"negative\",\n",
    "    1: \"neutral\",\n",
    "    2: \"positive\"\n",
    "})\n",
    "count_label_train = df_train[\"label\"].value_counts()\n",
    "count_label_dev = df_dev[\"label\"].value_counts()\n",
    "count_label_total = df_total[\"label\"].value_counts()\n",
    "count_label_test = df_test[\"label\"].value_counts()\n",
    "df_label_train = pd.concat([label_series, count_label_train], axis=1, keys=[\"label\", \"count\"])\n",
    "df_label_dev = pd.concat([label_series, count_label_dev], axis=1, keys=[\"label\", \"count\"])\n",
    "df_label_total = pd.concat([label_series, count_label_total], axis=1, keys=[\"label\", \"count\"])\n",
    "df_label_test = pd.concat([label_series, count_label_test], axis=1, keys=[\"label\", \"count\"])\n",
    "print(f'dataframe of train dataset:')\n",
    "print(df_label_train)\n",
    "print(f'dataframe of dev dataset:')\n",
    "print(df_label_dev)\n",
    "print(f'dataframe of test dataset:')\n",
    "print(df_label_test)\n",
    "print(f'dataframe of total dataset:')\n",
    "print(df_label_total)"
   ],
   "id": "e02be07b4a3233ac",
   "outputs": [
    {
     "name": "stdout",
     "output_type": "stream",
     "text": [
      "dataframe of train dataset:\n",
      "      label  count\n",
      "0  negative   5325\n",
      "1   neutral    458\n",
      "2  positive   5643\n",
      "dataframe of dev dataset:\n",
      "      label  count\n",
      "0  negative    705\n",
      "1   neutral     73\n",
      "2  positive    805\n",
      "dataframe of test dataset:\n",
      "      label  count\n",
      "0  negative   1409\n",
      "1   neutral    167\n",
      "2  positive   1590\n",
      "dataframe of total dataset:\n",
      "      label  count\n",
      "0  negative   7439\n",
      "1   neutral    698\n",
      "2  positive   8038\n"
     ]
    }
   ],
   "execution_count": 20
  },
  {
   "metadata": {
    "ExecuteTime": {
     "end_time": "2025-01-27T08:07:16.590514Z",
     "start_time": "2025-01-27T08:07:14.351356Z"
    }
   },
   "cell_type": "code",
   "source": [
    "# plot value in stacked bar chart\n",
    "plt.bar(df_label_train[\"label\"], df_label_train[\"count\"], color=\"red\")\n",
    "plt.bar(df_label_dev[\"label\"], df_label_dev[\"count\"], bottom=df_label_train[\"count\"], color=\"blue\")\n",
    "plt.bar(df_label_test[\"label\"], df_label_test[\"count\"], bottom=df_label_train[\"count\"] + df_label_dev[\"count\"],\n",
    "        color=\"green\")\n",
    "plt.xlabel(\"Label\")\n",
    "plt.ylabel(\"Quantity\")\n",
    "plt.legend([\"Train\", \"Dev\", \"Test\"])\n",
    "plt.title(\"Quantity of each label in train dev test dataset\")\n",
    "plt.show()"
   ],
   "id": "c1d618c4517c8edd",
   "outputs": [],
   "execution_count": 21
  },
  {
   "metadata": {
    "ExecuteTime": {
     "end_time": "2025-01-27T08:07:16.619388Z",
     "start_time": "2025-01-27T08:07:16.609569Z"
    }
   },
   "cell_type": "code",
   "source": "",
   "id": "81c7074dcdc30c19",
   "outputs": [],
   "execution_count": 21
  }
 ],
 "metadata": {
  "kernelspec": {
   "display_name": "Python 3",
   "language": "python",
   "name": "python3"
  },
  "language_info": {
   "codemirror_mode": {
    "name": "ipython",
    "version": 2
   },
   "file_extension": ".py",
   "mimetype": "text/x-python",
   "name": "python",
   "nbconvert_exporter": "python",
   "pygments_lexer": "ipython2",
   "version": "2.7.6"
  }
 },
 "nbformat": 4,
 "nbformat_minor": 5
}
